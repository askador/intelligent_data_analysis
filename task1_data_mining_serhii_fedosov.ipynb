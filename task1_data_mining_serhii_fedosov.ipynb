{
  "cells": [
    {
      "cell_type": "markdown",
      "metadata": {
        "id": "HXiPVw_feCSb"
      },
      "source": [
        "## Завдання на лабораторну работу №1\n",
        "\n",
        "В цій лабораторної роботі Вам буде запропоновано вирішити кілька завдань скориставшись засобами мови python. Рішення кожного завдання передбачає написання коду і демонстрація його працездатності на прикладах.\n",
        "\n",
        "[зверніть увагу на типізацію функцій](https://docs.python.org/3/library/typing.html)\n",
        "\n",
        "```NB```: При написанні коду не забувайте видаляти ```pass```!"
      ]
    },
    {
      "cell_type": "markdown",
      "metadata": {
        "id": "IPQHbkSueCSf"
      },
      "source": [
        "Перед тим, як надіслати своє завдання на перевірку, вкажіть в назві файлу своє ім'я та прізвище!\n",
        "Наприклад: ```data_mining_task1_python_ana_de.ipynb```"
      ]
    },
    {
      "cell_type": "markdown",
      "metadata": {
        "id": "OE2qgEaeeCSg"
      },
      "source": [
        "Завдання 1: На вхід функція приймає рядок s. Функція повинна повернути True якщо рядок є паліндромом та False – в протилежному випадку.\n",
        "\n",
        "Наприклад: \n",
        "\n",
        "*   `is_palindrome(s='anade') -> False`\n",
        "*   `is_palindrome(s='ana') -> True`\n",
        "\n",
        "\n"
      ]
    },
    {
      "cell_type": "code",
      "execution_count": 1,
      "metadata": {
        "id": "Kkp_Eb1jeCSg"
      },
      "outputs": [
        {
          "data": {
            "text/plain": [
              "False"
            ]
          },
          "execution_count": 1,
          "metadata": {},
          "output_type": "execute_result"
        }
      ],
      "source": [
        "def is_palindrome(s: str) -> bool:\n",
        "  return s == s[::-1]\n",
        "\n",
        "\n",
        "is_palindrome(\"aaa1aa\")"
      ]
    },
    {
      "cell_type": "markdown",
      "metadata": {
        "id": "IyJBIte7eCSh"
      },
      "source": [
        "Завдання 2: Розв’язати квадратне рівняння $ax^2+bx + c = 0$.  Напишіть функцію,яка приймає параметри квадратного рівняння, а повертає одне рішення або декілька.\n",
        "\n",
        "Наприклад:  \n",
        "\n",
        "\n",
        "```\n",
        "solve_quad(a=1, b=-2, c=1) -> 1  \n",
        "solve_quad(a=1, b=0, c=-1) -> (-1, 1)  \n",
        "solve_quad(a=0, b=2, c=-1) -> 0.5\n",
        "```\n",
        "\n",
        "\n",
        "\n",
        "\n",
        "\n",
        " "
      ]
    },
    {
      "cell_type": "code",
      "execution_count": 2,
      "metadata": {
        "id": "T-fCGsPjeCSh"
      },
      "outputs": [
        {
          "name": "stdout",
          "output_type": "stream",
          "text": [
            "1.0\n",
            "(1.0, -1.0)\n",
            "0.5\n"
          ]
        }
      ],
      "source": [
        "from math import sqrt\n",
        "\n",
        "def solve_quad(a: float, b: float, c: float) -> tuple[float, float] | float | None:\n",
        "  D = b*b - 4*a*c\n",
        "  x1 = (-b + sqrt(D))/2*a\n",
        "  x2 = (-b - sqrt(D))/2*a\n",
        "\n",
        "  if a == 0:\n",
        "    return -c/b\n",
        "  if D < 0:\n",
        "    return None\n",
        "  elif D == 0:\n",
        "    return x1\n",
        "  else:\n",
        "    return (x1, x2)\n",
        "\n",
        "print(solve_quad(a=1, b=-2, c=1))\n",
        "print(solve_quad(a=1, b=0, c=-1))\n",
        "print(solve_quad(a=0, b=2, c=-1))"
      ]
    },
    {
      "cell_type": "markdown",
      "metadata": {
        "id": "XTXSIYdYeCSh"
      },
      "source": [
        "Завдання 3: Реалізація функції merge. На вхід функція приймає 2 відсортованих масиви - `a` і `b`. Функція повинна повернути один відсортований масив, який містить всі елементи масивів `a` і `b`. \n",
        "\n",
        "Наприклад: `merge([1, 3, 3, 5], [3, 5, 5, 7]) -> [1, 3, 3, 3, 5, 5, 5, 7]`"
      ]
    },
    {
      "cell_type": "code",
      "execution_count": 3,
      "metadata": {
        "id": "nfXKB-nveCSh"
      },
      "outputs": [
        {
          "name": "stdout",
          "output_type": "stream",
          "text": [
            "[1, 3, 3, 3, 5, 5, 5, 7]\n"
          ]
        }
      ],
      "source": [
        "from typing import List\n",
        "\n",
        "def merge(a: List[int], b: List[int]) -> List[int]:\n",
        "  return sorted([*a, *b])\n",
        "\n",
        "print(merge([1, 3, 3, 5], [3, 5, 5, 7]))"
      ]
    },
    {
      "cell_type": "markdown",
      "metadata": {
        "id": "Z4zl4_cNeCSi"
      },
      "source": [
        "Завдання 4: Реалізація алгоритму [MergeSort](https://ru.wikipedia.org/wiki/%D0%A1%D0%BE%D1%80%D1%82%D0%B8%D1%80%D0%BE%D0%B2%D0%BA%D0%B0_%D1%81%D0%BB%D0%B8%D1%8F%D0%BD%D0%B8%D0%B5%D0%BC)..\n",
        "\n",
        "Наприклад: `MergeSort([3, 1, 3, 5]) -> [1, 3, 3, 5]`"
      ]
    },
    {
      "cell_type": "code",
      "execution_count": 4,
      "metadata": {
        "id": "VhDE9sTyeCSi"
      },
      "outputs": [],
      "source": [
        "def merge(l: list, r: list) -> list:\n",
        "  l_index, r_index = 0, 0\n",
        "  result = []\n",
        "  while l_index < len(l) and r_index < len(r):\n",
        "    if l[l_index] < r[r_index]:\n",
        "      result.append(l[l_index])\n",
        "      l_index += 1\n",
        "    else:\n",
        "      result.append(r[r_index])\n",
        "      r_index += 1\n",
        "\n",
        "  result += l[l_index:]\n",
        "  result += r[r_index:]\n",
        "  return result\n",
        "\n",
        "def MergeSort(L: List[int]) -> List[int]:\n",
        "  if len(L) <= 1:\n",
        "    return L\n",
        "  half = len(L) // 2\n",
        "  l = MergeSort(L[:half])\n",
        "  r = MergeSort(L[half:])\n",
        "\n",
        "  return merge(l, r)\n",
        "  \n"
      ]
    },
    {
      "cell_type": "markdown",
      "metadata": {
        "id": "oiEEW3IKeCSj"
      },
      "source": [
        "## Знайомство з numpy."
      ]
    },
    {
      "cell_type": "markdown",
      "metadata": {
        "id": "eEtj358ceCSj"
      },
      "source": [
        "Всі завдання з цієї частини передбачають написання функції на мові Python, а так само приклади роботи цієї функції. При реалізації завдань потрібно використовувати методи з бібліотеки `numpy`. Рішення з циклами будуть оцінені в 0 балів.\n",
        "\n",
        "[базова документація](http://www.numpy.org)\n",
        "\n",
        "```NB```: Під матрицею розуміється двовимірний [numpy.array](https://docs.scipy.org/doc/numpy/reference/generated/numpy.array.html)\n",
        "\n",
        "Для підключення модуля скористайтеся наступним рядком. \n",
        "Використовуйте стандартне скорочення np."
      ]
    },
    {
      "cell_type": "code",
      "execution_count": 5,
      "metadata": {
        "id": "tpv_AzJzeCSj"
      },
      "outputs": [],
      "source": [
        "import numpy as np"
      ]
    },
    {
      "cell_type": "markdown",
      "metadata": {
        "id": "syBtY_AReCSj"
      },
      "source": [
        "Cтворення одномірного і двомірного масивів методами numpy:"
      ]
    },
    {
      "cell_type": "code",
      "execution_count": 6,
      "metadata": {
        "id": "yfm0zbHJeCSj",
        "outputId": "e896f45e-df10-4364-f796-10032bd467cd"
      },
      "outputs": [
        {
          "name": "stdout",
          "output_type": "stream",
          "text": [
            "[1. 2. 3.]\n"
          ]
        }
      ],
      "source": [
        "Ar1d = np.array([1, 2, 3], dtype=np.float64)\n",
        "\n",
        "print(Ar1d)"
      ]
    },
    {
      "cell_type": "code",
      "execution_count": 7,
      "metadata": {
        "id": "NO1tV1fteCSk",
        "outputId": "59fedd1c-9b1b-43a9-a689-822c7efb3927"
      },
      "outputs": [
        {
          "name": "stdout",
          "output_type": "stream",
          "text": [
            "[[1. 2.]\n",
            " [3. 4.]]\n"
          ]
        }
      ],
      "source": [
        "Ar2d = np.array([[1, 2],\n",
        "                [3, 4]], dtype=np.float64)\n",
        "print(Ar2d)"
      ]
    },
    {
      "cell_type": "markdown",
      "metadata": {
        "id": "NZns18uoeCSk"
      },
      "source": [
        "Завдання 6: Написати функцію яка на вхід приймає 3 масиви – `X, Y, Z`. функція повертатиме `True` у випадку, коли вони рівні та `False` – якщо ні.\n",
        "\n",
        "Рекомендація до завдання: Не використовуйте оператор `==`"
      ]
    },
    {
      "cell_type": "code",
      "execution_count": 8,
      "metadata": {
        "id": "nzv5GOlqeCSl"
      },
      "outputs": [
        {
          "data": {
            "text/plain": [
              "True"
            ]
          },
          "execution_count": 8,
          "metadata": {},
          "output_type": "execute_result"
        }
      ],
      "source": [
        "def is_equal(X, Y, Z):\n",
        "    return np.array_equal(X, Y) and np.array_equal(Y, Z)\n",
        "\n",
        "\n",
        "l1 = np.array([1, 2, 3])\n",
        "l2 = np.array([1, 2, 3])\n",
        "l3 = np.array([1, 2, 3])\n",
        "\n",
        "is_equal(l1, l2, l3)"
      ]
    },
    {
      "cell_type": "markdown",
      "metadata": {
        "id": "4vYN-bnIeCSl"
      },
      "source": [
        "Завдання 7: написати функцію, яка приймає на вході вектор рядок, а повертає вектор стовбець.\n",
        "\n",
        "Рекомендація до завдання: Забороняється використовувати операцію транспонування! Скористайтесь методом `reshape`."
      ]
    },
    {
      "cell_type": "code",
      "execution_count": 9,
      "metadata": {
        "id": "cwnufrdPeCSl"
      },
      "outputs": [
        {
          "name": "stdout",
          "output_type": "stream",
          "text": [
            "[[0.77098038 0.52228283 0.53935485]]\n",
            "[[0.77098038]\n",
            " [0.52228283]\n",
            " [0.53935485]]\n"
          ]
        }
      ],
      "source": [
        "def rot_vec(x: np.ndarray):\n",
        "    return np.reshape(x, (x.shape[1], x.shape[0]))\n",
        "\n",
        "vec = np.random.rand(1, 3)\n",
        "print(vec)\n",
        "print(rot_vec(vec))"
      ]
    },
    {
      "cell_type": "markdown",
      "metadata": {
        "id": "uvi-JOAheCSl"
      },
      "source": [
        "Завдання 8: Написати функцію яка приймає на вхід двовимірний масив, а повертає масив з діагональними елементами цієї матриці. \n",
        "\n",
        "Наприклад: `[[1, 2], [3, 4]] -> [1 4]`"
      ]
    },
    {
      "cell_type": "code",
      "execution_count": 10,
      "metadata": {
        "id": "uBSPXOJkeCSl"
      },
      "outputs": [
        {
          "name": "stdout",
          "output_type": "stream",
          "text": [
            "[[8 0]\n",
            " [9 7]]\n",
            "[8 7]\n"
          ]
        }
      ],
      "source": [
        "def get_diag(X: np.ndarray):\n",
        "    return X.diagonal()\n",
        "\n",
        "matrix = np.random.randint(10, size=(2, 2))\n",
        "print(matrix)\n",
        "print(get_diag(matrix))"
      ]
    },
    {
      "cell_type": "markdown",
      "metadata": {
        "id": "PvwgIU1veCSm"
      },
      "source": [
        "Завдання 9: Написати функцію яка приймає на вхід двомірний масив, а повертає масив елементів які знаходяться на другорядній діагоналі. Приклад: `[[1, 2], [3, 4]] -> [2 3]`"
      ]
    },
    {
      "cell_type": "code",
      "execution_count": 11,
      "metadata": {
        "id": "zIRKjQofeCSm"
      },
      "outputs": [
        {
          "name": "stdout",
          "output_type": "stream",
          "text": [
            "[[2 1]\n",
            " [8 8]]\n",
            "[1 8]\n"
          ]
        }
      ],
      "source": [
        "def sec_diag(X: np.ndarray):\n",
        "    return np.diag(np.fliplr(X))\n",
        "\n",
        "matrix = np.random.randint(10, size=(2, 2))\n",
        "print(matrix)\n",
        "print(sec_diag(matrix))"
      ]
    },
    {
      "cell_type": "markdown",
      "metadata": {
        "id": "TQ61tk7SeCSm"
      },
      "source": [
        "## Робота з бібліотекою pandas\n",
        "\n",
        "В наступній частині лабораторної роботи розглянемо бібліотеку pandas.\n",
        "Перед виконанням цієї частини необхідно завантажити датасет за посиланням:\n",
        "[titanic.csv](https://gist.github.com/michhar/2dfd2de0d4f8727f873422c5d959fff5)\n",
        "\n",
        "[основна документація цього розділу](https://pandas.pydata.org/)"
      ]
    },
    {
      "cell_type": "code",
      "execution_count": 12,
      "metadata": {
        "id": "Fbe_qcF0eCSm"
      },
      "outputs": [
        {
          "name": "stdout",
          "output_type": "stream",
          "text": [
            "<class 'pandas.core.frame.DataFrame'>\n",
            "RangeIndex: 891 entries, 0 to 890\n",
            "Data columns (total 12 columns):\n",
            " #   Column       Non-Null Count  Dtype  \n",
            "---  ------       --------------  -----  \n",
            " 0   PassengerId  891 non-null    int64  \n",
            " 1   Survived     891 non-null    int64  \n",
            " 2   Pclass       891 non-null    int64  \n",
            " 3   Name         891 non-null    object \n",
            " 4   Sex          891 non-null    object \n",
            " 5   Age          714 non-null    float64\n",
            " 6   SibSp        891 non-null    int64  \n",
            " 7   Parch        891 non-null    int64  \n",
            " 8   Ticket       891 non-null    object \n",
            " 9   Fare         891 non-null    float64\n",
            " 10  Cabin        204 non-null    object \n",
            " 11  Embarked     889 non-null    object \n",
            "dtypes: float64(2), int64(5), object(5)\n",
            "memory usage: 83.7+ KB\n"
          ]
        }
      ],
      "source": [
        "import pandas as pd\n",
        "\n",
        "# Завантажте датасет. Ознайомтесь з тим як це правильно зробити, уважно прочитавши документацію по функції pd.read_csv.\n",
        "# Зверніть особливу увагу на роздільники датасета. \n",
        "\n",
        "df = pd.read_csv('./titanic.csv')\n",
        "df.info()"
      ]
    },
    {
      "cell_type": "markdown",
      "metadata": {
        "id": "qTxYBLWdeCSm"
      },
      "source": [
        "Завдання 10: Кого більше - чоловіків чи жінок?"
      ]
    },
    {
      "cell_type": "code",
      "execution_count": 13,
      "metadata": {
        "id": "58MgIBEleCSm"
      },
      "outputs": [
        {
          "data": {
            "text/plain": [
              "'more men'"
            ]
          },
          "execution_count": 13,
          "metadata": {},
          "output_type": "execute_result"
        }
      ],
      "source": [
        "'more men' if df[df['Sex'] == 'male']['PassengerId'].count() > df[df['Sex'] == 'female']['PassengerId'].count() else 'more women'"
      ]
    },
    {
      "cell_type": "markdown",
      "metadata": {
        "id": "ApLZCvNveCSm"
      },
      "source": [
        "Завдання 11: Виведіть наступні характеристики пасажирів: середній вік пасажирів, середній вік чоловіків, середній вік жінок, максимальний і мінімальний вік серед чоловіків і жінок."
      ]
    },
    {
      "cell_type": "code",
      "execution_count": 14,
      "metadata": {
        "id": "Sg59NcqLeCSn"
      },
      "outputs": [
        {
          "name": "stdout",
          "output_type": "stream",
          "text": [
            "avg_age=29.69911764705882\n",
            "median_age=28.0\n",
            "avg_age_men=30.72664459161148\n",
            "median_age_men=29.0\n",
            "avg_age_women=27.915708812260537\n",
            "median_age_women=27.0\n",
            "max_age_men=80.0\n",
            "min_age_men=0.42\n",
            "max_age_women=63.0\n",
            "min_age_women=0.75\n"
          ]
        }
      ],
      "source": [
        "avg_age = df['Age'].mean()\n",
        "median_age = df['Age'].median()\n",
        "avg_age_men = df[df['Sex'] == 'male']['Age'].mean()\n",
        "median_age_men = df[df['Sex'] == 'male']['Age'].median()\n",
        "avg_age_women = df[df['Sex'] == 'female']['Age'].mean()\n",
        "median_age_women = df[df['Sex'] == 'female']['Age'].median()\n",
        "max_age_men = df[df['Sex'] == 'male']['Age'].max()\n",
        "min_age_men = df[df['Sex'] == 'male']['Age'].min()\n",
        "max_age_women = df[df['Sex'] == 'female']['Age'].max()\n",
        "min_age_women = df[df['Sex'] == 'female']['Age'].min()\n",
        "\n",
        "\n",
        "print(f\"{avg_age=}\")\n",
        "print(f\"{median_age=}\")\n",
        "print(f\"{avg_age_men=}\")\n",
        "print(f\"{median_age_men=}\")\n",
        "print(f\"{avg_age_women=}\")\n",
        "print(f\"{median_age_women=}\")\n",
        "print(f\"{max_age_men=}\")\n",
        "print(f\"{min_age_men=}\")\n",
        "print(f\"{max_age_women=}\")\n",
        "print(f\"{min_age_women=}\")"
      ]
    },
    {
      "cell_type": "markdown",
      "metadata": {
        "id": "P5zkuX9VeCSn"
      },
      "source": [
        " ## Знайомство з бібліотекою matplotlib "
      ]
    },
    {
      "cell_type": "markdown",
      "metadata": {
        "id": "cYyqxB4MeCSn"
      },
      "source": [
        "Для початку ознайомтесь з [документацією](https://matplotlib.org/)"
      ]
    },
    {
      "cell_type": "markdown",
      "metadata": {
        "id": "pEt3gexreCSn"
      },
      "source": [
        "Завдання 12: Побудувати задані функції: \n",
        "\n",
        "$f_{1}(x) =  \\frac{sin(x)}{x}$\n",
        "\n",
        "$f_{2}(x) =  \\frac{cos(x)}{x^2 + 1}$\n",
        "\n",
        "$f_{3}(x) =  cos^2(x) - \\frac{sin(x)}{2}$  \n",
        "\n",
        "$f_{4}(x) =  cos(x)$  \n",
        "\n",
        "$f_{5}(x) =  \\frac{sin(x)}{x^2 + 1}$"
      ]
    },
    {
      "cell_type": "markdown",
      "metadata": {
        "id": "YJ0pmkTo8S1D"
      },
      "source": [
        "зробити візуалізацію заданих функцій  \n",
        "нижче наведені стандартні праклади"
      ]
    },
    {
      "cell_type": "code",
      "execution_count": 19,
      "metadata": {
        "id": "YVT6yXXqeCSn"
      },
      "outputs": [],
      "source": [
        "from matplotlib import pyplot as plt\n",
        "%matplotlib inline"
      ]
    },
    {
      "cell_type": "code",
      "execution_count": 20,
      "metadata": {
        "id": "UtB89oaVeCSn",
        "outputId": "48a50904-4cd7-4373-e09b-9c1c6004d418"
      },
      "outputs": [
        {
          "data": {
            "image/png": "[encoded data removed]",
            "text/plain": [
              "<Figure size 640x480 with 1 Axes>"
            ]
          },
          "metadata": {},
          "output_type": "display_data"
        }
      ],
      "source": [
        "x = [i for i in range (50)]\n",
        "y = [i*i for i in range (50)]\n",
        "plt.plot(x,y)\n",
        "plt.show()"
      ]
    },
    {
      "cell_type": "code",
      "execution_count": 21,
      "metadata": {
        "id": "tCJ2CuOAeCSo"
      },
      "outputs": [],
      "source": [
        "import matplotlib.pyplot as plt\n",
        "\n",
        "x = np.arange(-10, 10, 0.01)\n",
        "\n",
        "y1 = np.sin(x) / x\n",
        "y2 = np.cos(x) / (1. + x*x)\n",
        "y3 = np.cos(x) * np.cos(x) - np.sin(x) / 2."
      ]
    },
    {
      "cell_type": "code",
      "execution_count": 22,
      "metadata": {
        "id": "ki86Yt_XeCSo",
        "outputId": "543d5281-b728-4f43-d545-b60d2b8f7f04"
      },
      "outputs": [
        {
          "data": {
            "image/png": "[encoded data removed]",
            "text/plain": [
              "<Figure size 640x480 with 1 Axes>"
            ]
          },
          "metadata": {},
          "output_type": "display_data"
        }
      ],
      "source": [
        "plt.plot(x, y1)\n",
        "plt.plot(x, y2)\n",
        "plt.plot(x, y3)\n",
        "plt.show()"
      ]
    },
    {
      "cell_type": "code",
      "execution_count": 23,
      "metadata": {
        "id": "U3iVhlYeeCSo"
      },
      "outputs": [],
      "source": [
        "x = np.arange(-10, 10, 0.01)\n",
        "\n",
        "y4 = np.cos(x)\n",
        "y5 = np.sin(x) / (1. + x*x)"
      ]
    },
    {
      "cell_type": "code",
      "execution_count": 24,
      "metadata": {
        "id": "70fOVYjJeCSo",
        "outputId": "2e700e4d-1d73-4232-fc8b-8528146ac5e2"
      },
      "outputs": [
        {
          "data": {
            "image/png": "[encoded data removed]",
            "text/plain": [
              "<Figure size 640x480 with 1 Axes>"
            ]
          },
          "metadata": {},
          "output_type": "display_data"
        }
      ],
      "source": [
        "plt.plot(x,y4)\n",
        "plt.plot(x,y5)\n",
        "plt.show()"
      ]
    },
    {
      "cell_type": "markdown",
      "metadata": {
        "id": "Tg-QmR-eeCSp"
      },
      "source": [
        "Завдання 13: Побудувати графік щільності розподілу випадкової величини."
      ]
    },
    {
      "cell_type": "markdown",
      "metadata": {
        "id": "fPIuwCin8S1H"
      },
      "source": [
        "зробити візуалізації заданої випадкової величини"
      ]
    },
    {
      "cell_type": "code",
      "execution_count": 32,
      "metadata": {
        "id": "9Av3YD1NeCSp"
      },
      "outputs": [],
      "source": [
        "d = np.random.normal(loc=2.0, scale=3.5, size=1000)"
      ]
    },
    {
      "cell_type": "code",
      "execution_count": 33,
      "metadata": {
        "id": "rBQNcArUeCSp",
        "outputId": "1fe0b87a-762a-44c8-e965-c8c6a076a503"
      },
      "outputs": [
        {
          "data": {
            "image/png": "[encoded data removed]",
            "text/plain": [
              "<Figure size 640x480 with 1 Axes>"
            ]
          },
          "metadata": {},
          "output_type": "display_data"
        }
      ],
      "source": [
        "plt.hist(d)\n",
        "plt.show()"
      ]
    },
    {
      "cell_type": "markdown",
      "metadata": {},
      "source": [
        "### Висновки"
      ]
    },
    {
      "cell_type": "markdown",
      "metadata": {},
      "source": [
        "На даній лабораторній роботі, ми ознайомились з новим методом роботи на мові Python та закріпили попередньо набуті навички. Використовуючи Jupyter Notebook, який надає можливість створювати блоки коду та Markdown водночас, самостійно навчилися користуватись потужним засобом для роботи з науковими обчисленнями - NumPy, Pandas - для обробки та аналізу даних та Matplotlib для графічного відображення даних. Ми проаналізували відткриті дані з рейсу параходу Тітанік та визначили якого гендеру більше, середні, мінімальні та максимальні значення віку пасажирів, порівняли різницю mean та median, та визначили, що в даному датасеті outliers впливають незначно."
      ]
    }
  ],
  "metadata": {
    "colab": {
      "collapsed_sections": [],
      "name": "task1_data_mining.ipynb",
      "provenance": []
    },
    "kernelspec": {
      "display_name": "Python 3.10.0 64-bit",
      "language": "python",
      "name": "python3"
    },
    "language_info": {
      "codemirror_mode": {
        "name": "ipython",
        "version": 3
      },
      "file_extension": ".py",
      "mimetype": "text/x-python",
      "name": "python",
      "nbconvert_exporter": "python",
      "pygments_lexer": "ipython3",
      "version": "3.10.6"
    },
    "vscode": {
      "interpreter": {
        "hash": "807cc6a481f25a5b222cd58a3949a299ed2f2634387eaba6775d5c01f71eeb59"
      }
    }
  },
  "nbformat": 4,
  "nbformat_minor": 0
}
