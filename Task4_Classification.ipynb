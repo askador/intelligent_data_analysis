{
  "cells": [
    {
      "cell_type": "markdown",
      "metadata": {
        "id": "yS3c5TMcysZk"
      },
      "source": [
        "## Лабораторна робота 4. **CLASSIFICATION** 🔵/🔺"
      ]
    },
    {
      "cell_type": "markdown",
      "metadata": {
        "id": "o_YxWfDYysZp"
      },
      "source": [
        "Оцінювання даної роботи буде ураховувати якість Ваших висновків та візуалізацій. При наявності ЛИШЕ коду та візуалізацій без роз'яснень, робота оцінюватися НЕ БУДЕ.  \n",
        "\n",
        "Більшість поставлених в цій лабораторній роботі задач в майбутньому буде ставитись Вами самойстійно!\n",
        "\n",
        "Під час виконання Вам дозволено користуватися будь-якими зручними для вас бібліотеками для візуалізації. \n",
        "\n",
        "Оформлення коментарів повинно проводитися в текстових комірках ноутбука з використанням синтаксису [LaTeX](https://en.wikibooks.org/wiki/LaTeX/Basics) для оформлення тексту та формул. \n",
        "\n",
        "Роботи ідентифіковані як ІДЕНТИЧНІ одразу отримують 0 балів."
      ]
    },
    {
      "cell_type": "markdown",
      "metadata": {
        "id": "ji8bJZmkysZq"
      },
      "source": [
        "# Опис вибірки \"bank-additional-full\""
      ]
    },
    {
      "cell_type": "markdown",
      "metadata": {
        "id": "fN7lEmYNysZq"
      },
      "source": [
        "   # Input variables:\n",
        "   `bank client data:`  \n",
        "   1 - **age** (numeric)  \n",
        "   2 - **job** : type of job (categorical: \"admin.\",\"blue-collar\",\"entrepreneur\",\"housemaid\",\"management\",\"retired\",\"self-employed\",\"services\",\"student\",\"technician\",\"unemployed\",\"unknown\")  \n",
        "   3 - **marital** : marital status (categorical: \"divorced\",\"married\",\"single\",\"unknown\"; note: \"divorced\" means divorced or widowed)  \n",
        "   4 - **education** (categorical: \"basic.4y\",\"basic.6y\",\"basic.9y\",\"high.school\",\"illiterate\",\"professional.course\",\"university.degree\",\"unknown\")  \n",
        "   5 - **default**: has credit in default? (categorical: \"no\",\"yes\",\"unknown\")  \n",
        "   6 - **housing**: has housing loan? (categorical: \"no\",\"yes\",\"unknown\")  \n",
        "   7 - **loan**: has personal loan? (categorical: \"no\",\"yes\",\"unknown\")  \n",
        "   # related with the last contact of the current campaign:  \n",
        "   8 - **contact**: contact communication type (categorical: \"cellular\",\"telephone\")   \n",
        "   9 - **month**: last contact month of year (categorical: \"jan\", \"feb\", \"mar\", ..., \"nov\", \"dec\")  \n",
        "  10 - **day_of_week**: last contact day of the week (categorical: \"mon\",\"tue\",\"wed\",\"thu\",\"fri\")  \n",
        "  11 - **duration**: last contact duration, in seconds (numeric). Important note:  this attribute highly affects the output target (e.g., if duration=0 then y=\"no\"). Yet, the duration is not known before a call is performed. Also, after the end of the call y is obviously known. Thus, this input should only be included for benchmark purposes and should be discarded if the intention is to have a realistic predictive model.  \n",
        "   # other attributes:  \n",
        "  12 - **campaign**: number of contacts performed during this campaign and for this client (numeric, includes last contact)  \n",
        "  13 - **pdays**: number of days that passed by after the client was last contacted from a previous campaign (numeric; 999 means client was not previously contacted)  \n",
        "  14 - **previous**: number of contacts performed before this campaign and for this client (numeric) \n",
        "  15 - **poutcome**: outcome of the previous marketing campaign (categorical: \"failure\",\"nonexistent\",\"success\")  \n",
        "   # social and economic context attributes  \n",
        "  16 - **emp.var.rate**: employment variation rate - quarterly indicator (numeric)  \n",
        "  17 - **cons.price.idx**: consumer price index - monthly indicator (numeric)       \n",
        "  18 - **cons.conf.idx**: consumer confidence index - monthly indicator (numeric)       \n",
        "  19 - **euribor3m**: euribor 3 month rate - daily indicator (numeric)  \n",
        "  20 - **nr.employed**: number of employees - quarterly indicator (numeric)  \n",
        "    \n",
        "   `Output variable (desired target):`  \n",
        "  21 - **y** - has the client subscribed a term deposit? (binary: \"yes\",\"no\")"
      ]
    },
    {
      "cell_type": "markdown",
      "metadata": {
        "id": "BewrKRUIysZr"
      },
      "source": [
        "## Імпорт необхідних бібліотек та завантаження даних"
      ]
    },
    {
      "cell_type": "markdown",
      "metadata": {
        "id": "sxyNYSbRysZr"
      },
      "source": [
        "**Завдання 1** підготовка даних до опрацювання\n",
        "\n",
        "1. завантажте вибірку `bank-additional-full.csv`;   \n",
        "2. підключіть необхідні бібліотеки;  \n",
        "3. вивести основну статистичну інформацію по числовим змінним;  \n",
        "4. вивести розмірність датасету."
      ]
    },
    {
      "cell_type": "code",
      "execution_count": 64,
      "metadata": {
        "id": "8f4DR0U4ysZr"
      },
      "outputs": [],
      "source": [
        "import numpy as np\n",
        "import pandas as pd\n",
        "import matplotlib.pyplot as plt\n",
        "import seaborn as sns\n",
        "from sklearn.preprocessing import LabelEncoder\n",
        "from sklearn.model_selection import train_test_split\n",
        "from sklearn.model_selection import KFold\n",
        "from sklearn.linear_model import LogisticRegression\n",
        "from sklearn.model_selection import cross_val_score\n",
        "from sklearn.metrics import confusion_matrix, accuracy_score\n",
        "from sklearn.model_selection import train_test_split\n",
        "from sklearn.preprocessing import StandardScaler\n",
        "from sklearn import model_selection\n",
        "from sklearn.neighbors import KNeighborsClassifier\n",
        "\n",
        "%matplotlib inline\n",
        "import warnings\n",
        "warnings.filterwarnings('ignore')"
      ]
    },
    {
      "cell_type": "code",
      "execution_count": 65,
      "metadata": {
        "id": "uzAsItFFysZs"
      },
      "outputs": [],
      "source": [
        "df = pd.read_csv('./bank-additional-full.csv', delimiter=\";\")"
      ]
    },
    {
      "cell_type": "code",
      "execution_count": 66,
      "metadata": {},
      "outputs": [
        {
          "data": {
            "text/html": [
              "<div>\n",
              "<style scoped>\n",
              "    .dataframe tbody tr th:only-of-type {\n",
              "        vertical-align: middle;\n",
              "    }\n",
              "\n",
              "    .dataframe tbody tr th {\n",
              "        vertical-align: top;\n",
              "    }\n",
              "\n",
              "    .dataframe thead th {\n",
              "        text-align: right;\n",
              "    }\n",
              "</style>\n",
              "<table border=\"1\" class=\"dataframe\">\n",
              "  <thead>\n",
              "    <tr style=\"text-align: right;\">\n",
              "      <th></th>\n",
              "      <th>age</th>\n",
              "      <th>duration</th>\n",
              "      <th>campaign</th>\n",
              "      <th>pdays</th>\n",
              "      <th>previous</th>\n",
              "      <th>emp.var.rate</th>\n",
              "      <th>cons.price.idx</th>\n",
              "      <th>cons.conf.idx</th>\n",
              "      <th>euribor3m</th>\n",
              "      <th>nr.employed</th>\n",
              "    </tr>\n",
              "  </thead>\n",
              "  <tbody>\n",
              "    <tr>\n",
              "      <th>count</th>\n",
              "      <td>41188.00000</td>\n",
              "      <td>41188.000000</td>\n",
              "      <td>41188.000000</td>\n",
              "      <td>41188.000000</td>\n",
              "      <td>41188.000000</td>\n",
              "      <td>41188.000000</td>\n",
              "      <td>41188.000000</td>\n",
              "      <td>41188.000000</td>\n",
              "      <td>41188.000000</td>\n",
              "      <td>41188.000000</td>\n",
              "    </tr>\n",
              "    <tr>\n",
              "      <th>mean</th>\n",
              "      <td>40.02406</td>\n",
              "      <td>258.285010</td>\n",
              "      <td>2.567593</td>\n",
              "      <td>962.475454</td>\n",
              "      <td>0.172963</td>\n",
              "      <td>0.081886</td>\n",
              "      <td>93.575664</td>\n",
              "      <td>-40.502600</td>\n",
              "      <td>3.621291</td>\n",
              "      <td>5167.035911</td>\n",
              "    </tr>\n",
              "    <tr>\n",
              "      <th>std</th>\n",
              "      <td>10.42125</td>\n",
              "      <td>259.279249</td>\n",
              "      <td>2.770014</td>\n",
              "      <td>186.910907</td>\n",
              "      <td>0.494901</td>\n",
              "      <td>1.570960</td>\n",
              "      <td>0.578840</td>\n",
              "      <td>4.628198</td>\n",
              "      <td>1.734447</td>\n",
              "      <td>72.251528</td>\n",
              "    </tr>\n",
              "    <tr>\n",
              "      <th>min</th>\n",
              "      <td>17.00000</td>\n",
              "      <td>0.000000</td>\n",
              "      <td>1.000000</td>\n",
              "      <td>0.000000</td>\n",
              "      <td>0.000000</td>\n",
              "      <td>-3.400000</td>\n",
              "      <td>92.201000</td>\n",
              "      <td>-50.800000</td>\n",
              "      <td>0.634000</td>\n",
              "      <td>4963.600000</td>\n",
              "    </tr>\n",
              "    <tr>\n",
              "      <th>25%</th>\n",
              "      <td>32.00000</td>\n",
              "      <td>102.000000</td>\n",
              "      <td>1.000000</td>\n",
              "      <td>999.000000</td>\n",
              "      <td>0.000000</td>\n",
              "      <td>-1.800000</td>\n",
              "      <td>93.075000</td>\n",
              "      <td>-42.700000</td>\n",
              "      <td>1.344000</td>\n",
              "      <td>5099.100000</td>\n",
              "    </tr>\n",
              "    <tr>\n",
              "      <th>50%</th>\n",
              "      <td>38.00000</td>\n",
              "      <td>180.000000</td>\n",
              "      <td>2.000000</td>\n",
              "      <td>999.000000</td>\n",
              "      <td>0.000000</td>\n",
              "      <td>1.100000</td>\n",
              "      <td>93.749000</td>\n",
              "      <td>-41.800000</td>\n",
              "      <td>4.857000</td>\n",
              "      <td>5191.000000</td>\n",
              "    </tr>\n",
              "    <tr>\n",
              "      <th>75%</th>\n",
              "      <td>47.00000</td>\n",
              "      <td>319.000000</td>\n",
              "      <td>3.000000</td>\n",
              "      <td>999.000000</td>\n",
              "      <td>0.000000</td>\n",
              "      <td>1.400000</td>\n",
              "      <td>93.994000</td>\n",
              "      <td>-36.400000</td>\n",
              "      <td>4.961000</td>\n",
              "      <td>5228.100000</td>\n",
              "    </tr>\n",
              "    <tr>\n",
              "      <th>max</th>\n",
              "      <td>98.00000</td>\n",
              "      <td>4918.000000</td>\n",
              "      <td>56.000000</td>\n",
              "      <td>999.000000</td>\n",
              "      <td>7.000000</td>\n",
              "      <td>1.400000</td>\n",
              "      <td>94.767000</td>\n",
              "      <td>-26.900000</td>\n",
              "      <td>5.045000</td>\n",
              "      <td>5228.100000</td>\n",
              "    </tr>\n",
              "  </tbody>\n",
              "</table>\n",
              "</div>"
            ],
            "text/plain": [
              "               age      duration      campaign         pdays      previous  \\\n",
              "count  41188.00000  41188.000000  41188.000000  41188.000000  41188.000000   \n",
              "mean      40.02406    258.285010      2.567593    962.475454      0.172963   \n",
              "std       10.42125    259.279249      2.770014    186.910907      0.494901   \n",
              "min       17.00000      0.000000      1.000000      0.000000      0.000000   \n",
              "25%       32.00000    102.000000      1.000000    999.000000      0.000000   \n",
              "50%       38.00000    180.000000      2.000000    999.000000      0.000000   \n",
              "75%       47.00000    319.000000      3.000000    999.000000      0.000000   \n",
              "max       98.00000   4918.000000     56.000000    999.000000      7.000000   \n",
              "\n",
              "       emp.var.rate  cons.price.idx  cons.conf.idx     euribor3m   nr.employed  \n",
              "count  41188.000000    41188.000000   41188.000000  41188.000000  41188.000000  \n",
              "mean       0.081886       93.575664     -40.502600      3.621291   5167.035911  \n",
              "std        1.570960        0.578840       4.628198      1.734447     72.251528  \n",
              "min       -3.400000       92.201000     -50.800000      0.634000   4963.600000  \n",
              "25%       -1.800000       93.075000     -42.700000      1.344000   5099.100000  \n",
              "50%        1.100000       93.749000     -41.800000      4.857000   5191.000000  \n",
              "75%        1.400000       93.994000     -36.400000      4.961000   5228.100000  \n",
              "max        1.400000       94.767000     -26.900000      5.045000   5228.100000  "
            ]
          },
          "execution_count": 66,
          "metadata": {},
          "output_type": "execute_result"
        }
      ],
      "source": [
        "df.describe()"
      ]
    },
    {
      "cell_type": "code",
      "execution_count": 67,
      "metadata": {},
      "outputs": [
        {
          "data": {
            "text/plain": [
              "(41188, 21)"
            ]
          },
          "execution_count": 67,
          "metadata": {},
          "output_type": "execute_result"
        }
      ],
      "source": [
        "df.shape"
      ]
    },
    {
      "cell_type": "markdown",
      "metadata": {
        "id": "DsIS2KLCysZs"
      },
      "source": [
        "**Завдання 2** підготовка цільової змінної  \n",
        "\n",
        "1. проаналізувати атрибути вибірки, визначити цільовий атрибут `target atribute`;\n",
        "2. якщо `target atribute` є категоріальним, його необхідно перетворити в чисельний."
      ]
    },
    {
      "cell_type": "code",
      "execution_count": 68,
      "metadata": {},
      "outputs": [
        {
          "data": {
            "text/plain": [
              "array(['no', 'yes'], dtype=object)"
            ]
          },
          "execution_count": 68,
          "metadata": {},
          "output_type": "execute_result"
        }
      ],
      "source": [
        "target = 'y'\n",
        "df[target].unique()"
      ]
    },
    {
      "cell_type": "code",
      "execution_count": 69,
      "metadata": {},
      "outputs": [],
      "source": [
        "df[target] = df[target].astype('category').apply(lambda x: 1 if x == 'yes' else 0)"
      ]
    },
    {
      "cell_type": "code",
      "execution_count": 70,
      "metadata": {
        "id": "LKsTWBCdysZt"
      },
      "outputs": [],
      "source": [
        "bank_target = df[target]"
      ]
    },
    {
      "cell_type": "markdown",
      "metadata": {
        "id": "VHy_NT1aysZt"
      },
      "source": [
        "## Аналіз змінних, які характеризують клієнтів банку:"
      ]
    },
    {
      "cell_type": "markdown",
      "metadata": {
        "id": "GDSktQp_ysZt"
      },
      "source": [
        "**Завдання 3** Визначитись зі всіма атрибутами, що характреризують кліентів банку:\n",
        "- виділити їх в окрему частину;\n",
        "- первірити всі змінні (які унікальні значення містять атрибути)(дивись опис датасету)."
      ]
    },
    {
      "cell_type": "code",
      "execution_count": 71,
      "metadata": {
        "id": "lku0lnRIysZt"
      },
      "outputs": [],
      "source": [
        "client_data_attributes = ['age', 'job', 'marital', 'education', 'default', 'housing', 'loan']\n",
        "bank_client = df[client_data_attributes]"
      ]
    },
    {
      "cell_type": "code",
      "execution_count": 72,
      "metadata": {},
      "outputs": [
        {
          "name": "stdout",
          "output_type": "stream",
          "text": [
            "age: [56 57 37 40 45 59 41 24 25 29 35 54 46 50 39 30 55 49 34 52 58 32 38 44\n",
            " 42 60 53 47 51 48 33 31 43 36 28 27 26 22 23 20 21 61 19 18 70 66 76 67\n",
            " 73 88 95 77 68 75 63 80 62 65 72 82 64 71 69 78 85 79 83 81 74 17 87 91\n",
            " 86 98 94 84 92 89]\n",
            "\n",
            "job: ['housemaid' 'services' 'admin.' 'blue-collar' 'technician' 'retired'\n",
            " 'management' 'unemployed' 'self-employed' 'unknown' 'entrepreneur'\n",
            " 'student']\n",
            "\n",
            "marital: ['married' 'single' 'divorced' 'unknown']\n",
            "\n",
            "education: ['basic.4y' 'high.school' 'basic.6y' 'basic.9y' 'professional.course'\n",
            " 'unknown' 'university.degree' 'illiterate']\n",
            "\n",
            "default: ['no' 'unknown' 'yes']\n",
            "\n",
            "housing: ['no' 'yes' 'unknown']\n",
            "\n",
            "loan: ['no' 'yes' 'unknown']\n",
            "\n"
          ]
        }
      ],
      "source": [
        "for attr in client_data_attributes:\n",
        "    print(f\"{attr}: {bank_client[attr].unique()}\\n\")"
      ]
    },
    {
      "cell_type": "markdown",
      "metadata": {
        "id": "zfKF4TiAysZt"
      },
      "source": [
        "**Завдання 4** Аналіз атрибуту `Age`:  \n",
        "1. Вивести максимальне та мінімальне значення;  \n",
        "2. Перевірити на наявність `NaN`;  \n",
        "3. Провести візуальний аналіз зміної `Age`:\n",
        "    - побудувати `countplot`, `boxplot`, `distplot`;\n",
        "    - перевірити розподіл по змінній `Age` на важкі хвости."
      ]
    },
    {
      "cell_type": "code",
      "execution_count": 73,
      "metadata": {
        "id": "ksMwh5pLysZu"
      },
      "outputs": [
        {
          "name": "stdout",
          "output_type": "stream",
          "text": [
            "\n",
            "Min age: 17\n",
            "Max age: 98\n",
            "NaNs present: 0\n",
            "\n"
          ]
        }
      ],
      "source": [
        "print(f\"\"\"\n",
        "Min age: {bank_client['age'].min()}\n",
        "Max age: {bank_client['age'].max()}\n",
        "NaNs present: {bank_client['age'].isna().sum()}\n",
        "\"\"\")"
      ]
    },
    {
      "cell_type": "code",
      "execution_count": 74,
      "metadata": {},
      "outputs": [
        {
          "data": {
            "image/png": "[encoded data removed]",
            "text/plain": [
              "<Figure size 640x480 with 1 Axes>"
            ]
          },
          "metadata": {},
          "output_type": "display_data"
        },
        {
          "data": {
            "image/png": "[encoded data removed]",
            "text/plain": [
              "<Figure size 640x480 with 1 Axes>"
            ]
          },
          "metadata": {},
          "output_type": "display_data"
        },
        {
          "data": {
            "image/png": "[encoded data removed]",
            "text/plain": [
              "<Figure size 640x480 with 1 Axes>"
            ]
          },
          "metadata": {},
          "output_type": "display_data"
        }
      ],
      "source": [
        "sns.countplot(bank_client['age']).set(title='Countplot of Age')\n",
        "plt.show()\n",
        "\n",
        "sns.boxplot(bank_client['age']).set(title='Boxplot of Age')\n",
        "plt.show()\n",
        "\n",
        "sns.distplot(bank_client['age']).set(title='Distplot of Age')\n",
        "plt.show()\n"
      ]
    },
    {
      "cell_type": "markdown",
      "metadata": {
        "id": "P_2Fdjg8ysZu"
      },
      "source": [
        "**Висновки з 1-4 завдання (детальні)**"
      ]
    },
    {
      "cell_type": "markdown",
      "metadata": {
        "id": "6MRw2gFlysZu"
      },
      "source": [
        "1. Виведені основні дані для роботи з датасетом: розмірність, характеристика числових змінних із стандартним відхиленням\n",
        "2. Проаналізувавши атрибути вибірки, визначили цільову змінну атрибутом `y` та зробили перетворення з категоріального типу в числовий\n",
        "3. Проаналізувавши усі атрибути, виділили їх до окремого датафрейму та зробили перевірку унікальних значень з значеннями, які надані в довідкі до датасету.\n",
        "4. Зробили аналіз атрибуту `age` на критичні точки та пропуски. Як виявилося, немає жодного NaN значення. "
      ]
    },
    {
      "cell_type": "markdown",
      "metadata": {
        "id": "LHo0NoTHysZu"
      },
      "source": [
        "**Завдання 5** Перевірити атрибут `Age` на викиди: "
      ]
    },
    {
      "cell_type": "code",
      "execution_count": 75,
      "metadata": {
        "id": "9iXl-Y4OysZu"
      },
      "outputs": [],
      "source": [
        "def detect_outliers_with_interquantile_range(df: pd.DataFrame,\n",
        "                                             column: str,\n",
        "                                             low_percentile: int,\n",
        "                                             high_percentile: int) -> pd.DataFrame:\n",
        "    \"\"\"\n",
        "    Detecting outliers using interquantile range set manually\n",
        "\n",
        "    df: pd.DataFrame to detect outliers\n",
        "    column: target column\n",
        "    low_percentile: lower bound between 0 and 100\n",
        "    high_percentile: upper bound between 0 and 100\n",
        "\n",
        "    returns: pd.DataFrame with detected outliers\n",
        "\n",
        "    \"\"\"\n",
        "\n",
        "    sorted_data = np.sort(df[column])\n",
        "    # Calculate Q1, Q2, Q3 and IQR.\n",
        "    Q1 = np.percentile(sorted_data, low_percentile)\n",
        "    Q3 = np.percentile(sorted_data, high_percentile)\n",
        "    print('')\n",
        "    print(f\"Q1 {low_percentile} percentile of the given data: {Q1}\")\n",
        "    print('')\n",
        "    print(f\"Q3 {high_percentile} percentile of the given data: {Q3}\")\n",
        "    print('')\n",
        "    print('----------------------------------------------------------')\n",
        "\n",
        "    IQR = Q3 - Q1\n",
        "    print('')\n",
        "    print(f\"Interquantile range: {IQR}\")\n",
        "    print('')\n",
        "    print('----------------------------------------------------------')\n",
        "    low_lim = Q1 - 1.5 * IQR\n",
        "    up_lim = Q3 + 1.5 * IQR\n",
        "    print('')\n",
        "    print(f\" Lower bound: {low_lim}\")\n",
        "    print('')\n",
        "    print(f\" Upper bound: {up_lim}\")\n",
        "    print('')\n",
        "    print('----------------------------------------------------------')\n",
        "    outliers = df[(df[column] > up_lim) | (df[column] < low_lim)]\n",
        "    print('')\n",
        "    print(f\"Outliers in the dataset:\")\n",
        "    display(outliers)\n",
        "\n",
        "\n",
        "    return outliers"
      ]
    },
    {
      "cell_type": "code",
      "execution_count": 76,
      "metadata": {
        "id": "gc_oPZJMysZv"
      },
      "outputs": [
        {
          "name": "stdout",
          "output_type": "stream",
          "text": [
            "\n",
            "Q1 10 percentile of the given data: 28.0\n",
            "\n",
            "Q3 90 percentile of the given data: 55.0\n",
            "\n",
            "----------------------------------------------------------\n",
            "\n",
            "Interquantile range: 27.0\n",
            "\n",
            "----------------------------------------------------------\n",
            "\n",
            " Lower bound: -12.5\n",
            "\n",
            " Upper bound: 95.5\n",
            "\n",
            "----------------------------------------------------------\n",
            "\n",
            "Outliers in the dataset:\n"
          ]
        },
        {
          "data": {
            "text/html": [
              "<div>\n",
              "<style scoped>\n",
              "    .dataframe tbody tr th:only-of-type {\n",
              "        vertical-align: middle;\n",
              "    }\n",
              "\n",
              "    .dataframe tbody tr th {\n",
              "        vertical-align: top;\n",
              "    }\n",
              "\n",
              "    .dataframe thead th {\n",
              "        text-align: right;\n",
              "    }\n",
              "</style>\n",
              "<table border=\"1\" class=\"dataframe\">\n",
              "  <thead>\n",
              "    <tr style=\"text-align: right;\">\n",
              "      <th></th>\n",
              "      <th>age</th>\n",
              "      <th>job</th>\n",
              "      <th>marital</th>\n",
              "      <th>education</th>\n",
              "      <th>default</th>\n",
              "      <th>housing</th>\n",
              "      <th>loan</th>\n",
              "    </tr>\n",
              "  </thead>\n",
              "  <tbody>\n",
              "    <tr>\n",
              "      <th>38452</th>\n",
              "      <td>98</td>\n",
              "      <td>retired</td>\n",
              "      <td>married</td>\n",
              "      <td>basic.4y</td>\n",
              "      <td>unknown</td>\n",
              "      <td>yes</td>\n",
              "      <td>no</td>\n",
              "    </tr>\n",
              "    <tr>\n",
              "      <th>38455</th>\n",
              "      <td>98</td>\n",
              "      <td>retired</td>\n",
              "      <td>married</td>\n",
              "      <td>basic.4y</td>\n",
              "      <td>unknown</td>\n",
              "      <td>yes</td>\n",
              "      <td>no</td>\n",
              "    </tr>\n",
              "  </tbody>\n",
              "</table>\n",
              "</div>"
            ],
            "text/plain": [
              "       age      job  marital education  default housing loan\n",
              "38452   98  retired  married  basic.4y  unknown     yes   no\n",
              "38455   98  retired  married  basic.4y  unknown     yes   no"
            ]
          },
          "metadata": {},
          "output_type": "display_data"
        }
      ],
      "source": [
        "outliers = detect_outliers_with_interquantile_range(bank_client, 'age', 10, 90)"
      ]
    },
    {
      "cell_type": "markdown",
      "metadata": {
        "id": "PN-ypxmiysZv"
      },
      "source": [
        "**Висновки з завдання 5 (детальні)**"
      ]
    },
    {
      "cell_type": "markdown",
      "metadata": {
        "id": "vJzhjPQ_ysZv"
      },
      "source": [
        "Реалізували метод `detect_outliers_with_interquantile_range`. Використовуючи цей метод, ми знаходимо викиди. Для знаходження викидів, ми розраховуємо 1 та 3 квантилі, міжквартильний діапазон та границі інтервалу. За допомогою екстремумів `low_lim` та `up_lim`, які знаходяться як `Q1-1.5*IQR` та `Q3+1.5*IQR` відповідно, ми встановлюємо межі для викидів. Використавши даний метод на нашому датасеті, ми отримали два викида."
      ]
    },
    {
      "cell_type": "markdown",
      "metadata": {
        "id": "llohM2tDysZv"
      },
      "source": [
        "**Завдання 6** Аналіз атрибутів `job`, `marital` та `education`:  \n",
        "- Побудувати графіки розподілу даних по цим змінним."
      ]
    },
    {
      "cell_type": "code",
      "execution_count": 77,
      "metadata": {
        "id": "Srz_q9wSysZw"
      },
      "outputs": [
        {
          "data": {
            "image/png": "[encoded data removed]",
            "text/plain": [
              "<Figure size 1500x500 with 1 Axes>"
            ]
          },
          "metadata": {},
          "output_type": "display_data"
        }
      ],
      "source": [
        "sns.displot(bank_client['job'], aspect=3).set(title='Розподіл змінної Job')\n",
        "plt.show()"
      ]
    },
    {
      "cell_type": "code",
      "execution_count": 78,
      "metadata": {
        "id": "X8IXg3ZEysZw"
      },
      "outputs": [
        {
          "data": {
            "image/png": "[encoded data removed]",
            "text/plain": [
              "<Figure size 500x500 with 1 Axes>"
            ]
          },
          "metadata": {},
          "output_type": "display_data"
        }
      ],
      "source": [
        "sns.displot(bank_client['marital']).set(title='Розподіл змінної Marital')\n",
        "plt.show()"
      ]
    },
    {
      "cell_type": "code",
      "execution_count": 79,
      "metadata": {
        "id": "CpmtGSyAysZw"
      },
      "outputs": [
        {
          "data": {
            "image/png": "[encoded data removed]",
            "text/plain": [
              "<Figure size 1150x500 with 1 Axes>"
            ]
          },
          "metadata": {},
          "output_type": "display_data"
        }
      ],
      "source": [
        "sns.displot(bank_client['education'], aspect=2.3).set(title='Розподіл змінної Education')\n",
        "plt.show()"
      ]
    },
    {
      "cell_type": "markdown",
      "metadata": {
        "id": "_HoSeGyxysZw"
      },
      "source": [
        "**Висновки з завдання 6 (детальні)**"
      ]
    },
    {
      "cell_type": "markdown",
      "metadata": {
        "id": "ED3cGHeVysZw"
      },
      "source": [
        "Проаналізували розподіл значень за атрибутами `job`, `marital` та `education`. 'admin' є найпоширеніша професія; 'у шлюбі' найпоширеніший сімейний статус; 'вища освіта' найпоширеніша освіченість. Також хотілося б привернути увагу до 'unknown' значення, бо це може збити з пантелику та вплинути на подальші дослідження."
      ]
    },
    {
      "cell_type": "markdown",
      "metadata": {
        "id": "jw3sXGn5ysZw"
      },
      "source": [
        "**Завдання 7** Аналіз атрибутів `default`, `housing` та `loan`:  \n",
        "- Побудувати графіки розподілу даних по цим змінним."
      ]
    },
    {
      "cell_type": "code",
      "execution_count": 80,
      "metadata": {
        "id": "ZY9DAx6jysZx"
      },
      "outputs": [
        {
          "data": {
            "image/png": "[encoded data removed]",
            "text/plain": [
              "<Figure size 500x500 with 1 Axes>"
            ]
          },
          "metadata": {},
          "output_type": "display_data"
        }
      ],
      "source": [
        "sns.displot(bank_client['default']).set(title='Розподіл змінної Default')\n",
        "plt.show()"
      ]
    },
    {
      "cell_type": "code",
      "execution_count": 81,
      "metadata": {
        "id": "Ak_0-1PxysZx"
      },
      "outputs": [
        {
          "data": {
            "image/png": "[encoded data removed]",
            "text/plain": [
              "<Figure size 500x500 with 1 Axes>"
            ]
          },
          "metadata": {},
          "output_type": "display_data"
        }
      ],
      "source": [
        "sns.displot(bank_client['housing']).set(title='Розподіл змінної Housing')\n",
        "plt.show()"
      ]
    },
    {
      "cell_type": "code",
      "execution_count": 82,
      "metadata": {
        "id": "NDArycEQysZx"
      },
      "outputs": [
        {
          "data": {
            "image/png": "[encoded data removed]",
            "text/plain": [
              "<Figure size 500x500 with 1 Axes>"
            ]
          },
          "metadata": {},
          "output_type": "display_data"
        }
      ],
      "source": [
        "sns.displot(bank_client['loan']).set(title='Розподіл змінної Loan')\n",
        "plt.show()"
      ]
    },
    {
      "cell_type": "markdown",
      "metadata": {
        "id": "wYtREfcJysZx"
      },
      "source": [
        "**Завдання 8** Змінні **Jobs, Marital, Education, Default, Housing, Loan** трансформувати в неперервні змінні:"
      ]
    },
    {
      "cell_type": "code",
      "execution_count": 83,
      "metadata": {
        "id": "Wsg4TFQzysZx"
      },
      "outputs": [],
      "source": [
        "def encode_categorical_columns(df: pd.DataFrame, categorical_cols: list) -> pd.DataFrame:\n",
        "    \"\"\"\n",
        "    Function for encoding categorical features using LabelEncoder\n",
        "    \n",
        "    df: pd.DataFrame to encode\n",
        "    categorical_cols: specified columns to encode\n",
        "    \n",
        "    returns: pd.DataFrame with encoded values\n",
        "    \"\"\"\n",
        "    for col in categorical_cols:\n",
        "      # Leaves NaN as it is.\n",
        "        le = LabelEncoder()\n",
        "        not_null = df[col][df[col].notnull()]\n",
        "        le.fit(not_null.unique())\n",
        "        df[col] = le.transform(not_null)\n",
        "      \n",
        "    return df"
      ]
    },
    {
      "cell_type": "code",
      "execution_count": 84,
      "metadata": {
        "id": "pInQzFcxysZx"
      },
      "outputs": [],
      "source": [
        "bank_client = encode_categorical_columns(bank_client, ['job', 'marital', 'education', 'default', 'housing',  'loan'])"
      ]
    },
    {
      "cell_type": "markdown",
      "metadata": {
        "id": "qY0ybijaysZy"
      },
      "source": [
        "**Завдання 9** Трансфомувати змінну **Age** (використовуючи її квартильні значення):\n",
        "\n",
        "\n"
      ]
    },
    {
      "cell_type": "code",
      "execution_count": 85,
      "metadata": {
        "id": "jKCNuX1YysZy"
      },
      "outputs": [],
      "source": [
        "def encode_age(df: pd.DataFrame, age_col: str ) -> pd.DataFrame:\n",
        "  \"\"\"\n",
        "  Function for encoding age column\n",
        "    \n",
        "  df: pd.DataFrame to encode\n",
        "  age_col: age col to encode \n",
        "  \"\"\"\n",
        "  df['age'] = pd.qcut(df['age'], 4, range(4))\n",
        "          \n",
        "  return df"
      ]
    },
    {
      "cell_type": "code",
      "execution_count": 86,
      "metadata": {
        "id": "FexEyw5BysZy"
      },
      "outputs": [],
      "source": [
        "bank_client = encode_age(bank_client, 'age')"
      ]
    },
    {
      "cell_type": "code",
      "execution_count": 87,
      "metadata": {},
      "outputs": [
        {
          "data": {
            "text/html": [
              "<div>\n",
              "<style scoped>\n",
              "    .dataframe tbody tr th:only-of-type {\n",
              "        vertical-align: middle;\n",
              "    }\n",
              "\n",
              "    .dataframe tbody tr th {\n",
              "        vertical-align: top;\n",
              "    }\n",
              "\n",
              "    .dataframe thead th {\n",
              "        text-align: right;\n",
              "    }\n",
              "</style>\n",
              "<table border=\"1\" class=\"dataframe\">\n",
              "  <thead>\n",
              "    <tr style=\"text-align: right;\">\n",
              "      <th></th>\n",
              "      <th>age</th>\n",
              "      <th>job</th>\n",
              "      <th>marital</th>\n",
              "      <th>education</th>\n",
              "      <th>default</th>\n",
              "      <th>housing</th>\n",
              "      <th>loan</th>\n",
              "    </tr>\n",
              "  </thead>\n",
              "  <tbody>\n",
              "    <tr>\n",
              "      <th>0</th>\n",
              "      <td>3</td>\n",
              "      <td>3</td>\n",
              "      <td>1</td>\n",
              "      <td>0</td>\n",
              "      <td>0</td>\n",
              "      <td>0</td>\n",
              "      <td>0</td>\n",
              "    </tr>\n",
              "    <tr>\n",
              "      <th>1</th>\n",
              "      <td>3</td>\n",
              "      <td>7</td>\n",
              "      <td>1</td>\n",
              "      <td>3</td>\n",
              "      <td>1</td>\n",
              "      <td>0</td>\n",
              "      <td>0</td>\n",
              "    </tr>\n",
              "    <tr>\n",
              "      <th>2</th>\n",
              "      <td>1</td>\n",
              "      <td>7</td>\n",
              "      <td>1</td>\n",
              "      <td>3</td>\n",
              "      <td>0</td>\n",
              "      <td>2</td>\n",
              "      <td>0</td>\n",
              "    </tr>\n",
              "    <tr>\n",
              "      <th>3</th>\n",
              "      <td>2</td>\n",
              "      <td>0</td>\n",
              "      <td>1</td>\n",
              "      <td>1</td>\n",
              "      <td>0</td>\n",
              "      <td>0</td>\n",
              "      <td>0</td>\n",
              "    </tr>\n",
              "    <tr>\n",
              "      <th>4</th>\n",
              "      <td>3</td>\n",
              "      <td>7</td>\n",
              "      <td>1</td>\n",
              "      <td>3</td>\n",
              "      <td>0</td>\n",
              "      <td>0</td>\n",
              "      <td>2</td>\n",
              "    </tr>\n",
              "    <tr>\n",
              "      <th>...</th>\n",
              "      <td>...</td>\n",
              "      <td>...</td>\n",
              "      <td>...</td>\n",
              "      <td>...</td>\n",
              "      <td>...</td>\n",
              "      <td>...</td>\n",
              "      <td>...</td>\n",
              "    </tr>\n",
              "    <tr>\n",
              "      <th>41183</th>\n",
              "      <td>3</td>\n",
              "      <td>5</td>\n",
              "      <td>1</td>\n",
              "      <td>5</td>\n",
              "      <td>0</td>\n",
              "      <td>2</td>\n",
              "      <td>0</td>\n",
              "    </tr>\n",
              "    <tr>\n",
              "      <th>41184</th>\n",
              "      <td>2</td>\n",
              "      <td>1</td>\n",
              "      <td>1</td>\n",
              "      <td>5</td>\n",
              "      <td>0</td>\n",
              "      <td>0</td>\n",
              "      <td>0</td>\n",
              "    </tr>\n",
              "    <tr>\n",
              "      <th>41185</th>\n",
              "      <td>3</td>\n",
              "      <td>5</td>\n",
              "      <td>1</td>\n",
              "      <td>6</td>\n",
              "      <td>0</td>\n",
              "      <td>2</td>\n",
              "      <td>0</td>\n",
              "    </tr>\n",
              "    <tr>\n",
              "      <th>41186</th>\n",
              "      <td>2</td>\n",
              "      <td>9</td>\n",
              "      <td>1</td>\n",
              "      <td>5</td>\n",
              "      <td>0</td>\n",
              "      <td>0</td>\n",
              "      <td>0</td>\n",
              "    </tr>\n",
              "    <tr>\n",
              "      <th>41187</th>\n",
              "      <td>3</td>\n",
              "      <td>5</td>\n",
              "      <td>1</td>\n",
              "      <td>5</td>\n",
              "      <td>0</td>\n",
              "      <td>2</td>\n",
              "      <td>0</td>\n",
              "    </tr>\n",
              "  </tbody>\n",
              "</table>\n",
              "<p>41188 rows × 7 columns</p>\n",
              "</div>"
            ],
            "text/plain": [
              "      age  job  marital  education  default  housing  loan\n",
              "0       3    3        1          0        0        0     0\n",
              "1       3    7        1          3        1        0     0\n",
              "2       1    7        1          3        0        2     0\n",
              "3       2    0        1          1        0        0     0\n",
              "4       3    7        1          3        0        0     2\n",
              "...    ..  ...      ...        ...      ...      ...   ...\n",
              "41183   3    5        1          5        0        2     0\n",
              "41184   2    1        1          5        0        0     0\n",
              "41185   3    5        1          6        0        2     0\n",
              "41186   2    9        1          5        0        0     0\n",
              "41187   3    5        1          5        0        2     0\n",
              "\n",
              "[41188 rows x 7 columns]"
            ]
          },
          "execution_count": 87,
          "metadata": {},
          "output_type": "execute_result"
        }
      ],
      "source": [
        "bank_client"
      ]
    },
    {
      "cell_type": "markdown",
      "metadata": {
        "id": "9F2SI64JysZy"
      },
      "source": [
        "**Висновки з завдання 9 (детальні)** перевірити як відбулося перетворення змінних"
      ]
    },
    {
      "cell_type": "markdown",
      "metadata": {},
      "source": [
        "Використовуючи метод Pandas `qcut`, ми розподіляємо вибірку на n інтервалів, в нашому випадку n = 4, однакового розміру. Метод визначає інтервали використовуючи процентилі на базі розподілу наших даних. Значення атрибуту `age` були замінені на значення 0, 1, 2, 3, в залежності до якого квартилю належить первісне значення.   "
      ]
    },
    {
      "cell_type": "markdown",
      "metadata": {
        "id": "U32QZJAeysZy"
      },
      "source": [
        "## Вибірка містить певну кількість атрибутів, які характеризують останій зв'язок кліентів з банком"
      ]
    },
    {
      "cell_type": "markdown",
      "metadata": {
        "id": "gzxtGoEiysZy"
      },
      "source": [
        "**Завдання 10** Виділити в окремий датафрейм змінні, які характеризують зв'язок клієнтів з банком;\n",
        "- вивести цей датафрейм;\n",
        "- перевірити ці змінні на `NaN`."
      ]
    },
    {
      "cell_type": "code",
      "execution_count": 88,
      "metadata": {
        "id": "p0zB5zHeysZy"
      },
      "outputs": [],
      "source": [
        "client_last_contact_attributes = ['contact', 'month', 'day_of_week','duration']\n",
        "bank_relat = df[client_last_contact_attributes]"
      ]
    },
    {
      "cell_type": "code",
      "execution_count": 89,
      "metadata": {},
      "outputs": [
        {
          "data": {
            "text/html": [
              "<div>\n",
              "<style scoped>\n",
              "    .dataframe tbody tr th:only-of-type {\n",
              "        vertical-align: middle;\n",
              "    }\n",
              "\n",
              "    .dataframe tbody tr th {\n",
              "        vertical-align: top;\n",
              "    }\n",
              "\n",
              "    .dataframe thead th {\n",
              "        text-align: right;\n",
              "    }\n",
              "</style>\n",
              "<table border=\"1\" class=\"dataframe\">\n",
              "  <thead>\n",
              "    <tr style=\"text-align: right;\">\n",
              "      <th></th>\n",
              "      <th>contact</th>\n",
              "      <th>month</th>\n",
              "      <th>day_of_week</th>\n",
              "      <th>duration</th>\n",
              "    </tr>\n",
              "  </thead>\n",
              "  <tbody>\n",
              "    <tr>\n",
              "      <th>0</th>\n",
              "      <td>telephone</td>\n",
              "      <td>may</td>\n",
              "      <td>mon</td>\n",
              "      <td>261</td>\n",
              "    </tr>\n",
              "    <tr>\n",
              "      <th>1</th>\n",
              "      <td>telephone</td>\n",
              "      <td>may</td>\n",
              "      <td>mon</td>\n",
              "      <td>149</td>\n",
              "    </tr>\n",
              "    <tr>\n",
              "      <th>2</th>\n",
              "      <td>telephone</td>\n",
              "      <td>may</td>\n",
              "      <td>mon</td>\n",
              "      <td>226</td>\n",
              "    </tr>\n",
              "    <tr>\n",
              "      <th>3</th>\n",
              "      <td>telephone</td>\n",
              "      <td>may</td>\n",
              "      <td>mon</td>\n",
              "      <td>151</td>\n",
              "    </tr>\n",
              "    <tr>\n",
              "      <th>4</th>\n",
              "      <td>telephone</td>\n",
              "      <td>may</td>\n",
              "      <td>mon</td>\n",
              "      <td>307</td>\n",
              "    </tr>\n",
              "    <tr>\n",
              "      <th>...</th>\n",
              "      <td>...</td>\n",
              "      <td>...</td>\n",
              "      <td>...</td>\n",
              "      <td>...</td>\n",
              "    </tr>\n",
              "    <tr>\n",
              "      <th>41183</th>\n",
              "      <td>cellular</td>\n",
              "      <td>nov</td>\n",
              "      <td>fri</td>\n",
              "      <td>334</td>\n",
              "    </tr>\n",
              "    <tr>\n",
              "      <th>41184</th>\n",
              "      <td>cellular</td>\n",
              "      <td>nov</td>\n",
              "      <td>fri</td>\n",
              "      <td>383</td>\n",
              "    </tr>\n",
              "    <tr>\n",
              "      <th>41185</th>\n",
              "      <td>cellular</td>\n",
              "      <td>nov</td>\n",
              "      <td>fri</td>\n",
              "      <td>189</td>\n",
              "    </tr>\n",
              "    <tr>\n",
              "      <th>41186</th>\n",
              "      <td>cellular</td>\n",
              "      <td>nov</td>\n",
              "      <td>fri</td>\n",
              "      <td>442</td>\n",
              "    </tr>\n",
              "    <tr>\n",
              "      <th>41187</th>\n",
              "      <td>cellular</td>\n",
              "      <td>nov</td>\n",
              "      <td>fri</td>\n",
              "      <td>239</td>\n",
              "    </tr>\n",
              "  </tbody>\n",
              "</table>\n",
              "<p>41188 rows × 4 columns</p>\n",
              "</div>"
            ],
            "text/plain": [
              "         contact month day_of_week  duration\n",
              "0      telephone   may         mon       261\n",
              "1      telephone   may         mon       149\n",
              "2      telephone   may         mon       226\n",
              "3      telephone   may         mon       151\n",
              "4      telephone   may         mon       307\n",
              "...          ...   ...         ...       ...\n",
              "41183   cellular   nov         fri       334\n",
              "41184   cellular   nov         fri       383\n",
              "41185   cellular   nov         fri       189\n",
              "41186   cellular   nov         fri       442\n",
              "41187   cellular   nov         fri       239\n",
              "\n",
              "[41188 rows x 4 columns]"
            ]
          },
          "execution_count": 89,
          "metadata": {},
          "output_type": "execute_result"
        }
      ],
      "source": [
        "bank_relat"
      ]
    },
    {
      "cell_type": "code",
      "execution_count": 90,
      "metadata": {},
      "outputs": [
        {
          "name": "stdout",
          "output_type": "stream",
          "text": [
            "NaNs present:\n",
            "contact        0\n",
            "month          0\n",
            "day_of_week    0\n",
            "duration       0\n",
            "dtype: int64\n"
          ]
        }
      ],
      "source": [
        "print(f\"NaNs present:\\n{bank_relat.isna().sum()}\")"
      ]
    },
    {
      "cell_type": "markdown",
      "metadata": {
        "id": "Axa42bVcysZz"
      },
      "source": [
        "**Завдання 11** вивести унікальні значення, які містять атрибути `contact`, `month`, `day_of_week`"
      ]
    },
    {
      "cell_type": "code",
      "execution_count": 91,
      "metadata": {},
      "outputs": [
        {
          "name": "stdout",
          "output_type": "stream",
          "text": [
            "Contact:\n",
            "['telephone' 'cellular']\n",
            "\n",
            "Month:\n",
            "['may' 'jun' 'jul' 'aug' 'oct' 'nov' 'dec' 'mar' 'apr' 'sep']\n",
            "\n",
            "day_of_week:\n",
            "['mon' 'tue' 'wed' 'thu' 'fri']\n",
            "\n"
          ]
        }
      ],
      "source": [
        "print(f\"Contact:\\n{bank_relat['contact'].unique()}\\n\")\n",
        "\n",
        "print(f\"Month:\\n{bank_relat['month'].unique()}\\n\")\n",
        "\n",
        "print(f\"day_of_week:\\n{bank_relat['day_of_week'].unique()}\\n\")"
      ]
    },
    {
      "cell_type": "markdown",
      "metadata": {
        "id": "6fFzX2raysZz"
      },
      "source": [
        "# Провести аналіз змінної **Duration**"
      ]
    },
    {
      "cell_type": "markdown",
      "metadata": {
        "id": "YiP7F-TAysZz"
      },
      "source": [
        "змінна ` duration` містить інформацію про тривалість останнього дзвінка, в секундах (числова). Важливе зауваження: цей атрибут сильно впливає на цільову змінну (наприклад, якщо тривалість = 0, тоді y = \"ні\"). Проте тривалість невідома до здійснення дзвінка. Крім того, після закінчення дзвінка y, очевидно, відомо. Таким чином, цей внесок слід включати лише для цілей порівняльних показників і відкидати, якщо метою є реалістична модель прогнозування."
      ]
    },
    {
      "cell_type": "markdown",
      "metadata": {
        "id": "VH7T1BCsysZz"
      },
      "source": [
        "**Завдання 12** Аналіз атрибуту `duration`:  \n",
        "\n",
        "Провести візуальний аналіз зміної `duration`:  \n",
        "\n",
        "\n",
        "*   побудувати  `boxplot` та `distplot`; \n",
        "*   перевірити розподіл по змінній `duration` на важкі хвости. \n",
        "\n"
      ]
    },
    {
      "cell_type": "code",
      "execution_count": 92,
      "metadata": {
        "id": "0ijoio2zysZz"
      },
      "outputs": [
        {
          "data": {
            "image/png": "[encoded data removed]",
            "text/plain": [
              "<Figure size 1200x600 with 2 Axes>"
            ]
          },
          "metadata": {},
          "output_type": "display_data"
        }
      ],
      "source": [
        "fig, ax = plt.subplots(1, 2, figsize=(12, 6))\n",
        "sns.boxplot(x=bank_relat['duration'], ax=ax[0]).set(title='Boxplot Duration')\n",
        "sns.distplot(bank_relat['duration'], ax=ax[1]).set(title='Distplot Duration')\n",
        "plt.tight_layout()\n",
        "plt.show()"
      ]
    },
    {
      "cell_type": "markdown",
      "metadata": {
        "id": "PQJ5TJgjysZ0"
      },
      "source": [
        "**Завдання 13** Закодувати змінні Contact, Month, Day of Week (використовуйте функцію `encode_categorical_columns()`)"
      ]
    },
    {
      "cell_type": "code",
      "execution_count": 93,
      "metadata": {
        "id": "thp8iB4bysZ0"
      },
      "outputs": [],
      "source": [
        "bank_relat = encode_categorical_columns(bank_relat, ['contact', 'month', 'day_of_week'])"
      ]
    },
    {
      "cell_type": "code",
      "execution_count": 94,
      "metadata": {},
      "outputs": [
        {
          "data": {
            "text/html": [
              "<div>\n",
              "<style scoped>\n",
              "    .dataframe tbody tr th:only-of-type {\n",
              "        vertical-align: middle;\n",
              "    }\n",
              "\n",
              "    .dataframe tbody tr th {\n",
              "        vertical-align: top;\n",
              "    }\n",
              "\n",
              "    .dataframe thead th {\n",
              "        text-align: right;\n",
              "    }\n",
              "</style>\n",
              "<table border=\"1\" class=\"dataframe\">\n",
              "  <thead>\n",
              "    <tr style=\"text-align: right;\">\n",
              "      <th></th>\n",
              "      <th>contact</th>\n",
              "      <th>month</th>\n",
              "      <th>day_of_week</th>\n",
              "      <th>duration</th>\n",
              "    </tr>\n",
              "  </thead>\n",
              "  <tbody>\n",
              "    <tr>\n",
              "      <th>0</th>\n",
              "      <td>1</td>\n",
              "      <td>6</td>\n",
              "      <td>1</td>\n",
              "      <td>261</td>\n",
              "    </tr>\n",
              "    <tr>\n",
              "      <th>1</th>\n",
              "      <td>1</td>\n",
              "      <td>6</td>\n",
              "      <td>1</td>\n",
              "      <td>149</td>\n",
              "    </tr>\n",
              "    <tr>\n",
              "      <th>2</th>\n",
              "      <td>1</td>\n",
              "      <td>6</td>\n",
              "      <td>1</td>\n",
              "      <td>226</td>\n",
              "    </tr>\n",
              "    <tr>\n",
              "      <th>3</th>\n",
              "      <td>1</td>\n",
              "      <td>6</td>\n",
              "      <td>1</td>\n",
              "      <td>151</td>\n",
              "    </tr>\n",
              "    <tr>\n",
              "      <th>4</th>\n",
              "      <td>1</td>\n",
              "      <td>6</td>\n",
              "      <td>1</td>\n",
              "      <td>307</td>\n",
              "    </tr>\n",
              "    <tr>\n",
              "      <th>...</th>\n",
              "      <td>...</td>\n",
              "      <td>...</td>\n",
              "      <td>...</td>\n",
              "      <td>...</td>\n",
              "    </tr>\n",
              "    <tr>\n",
              "      <th>41183</th>\n",
              "      <td>0</td>\n",
              "      <td>7</td>\n",
              "      <td>0</td>\n",
              "      <td>334</td>\n",
              "    </tr>\n",
              "    <tr>\n",
              "      <th>41184</th>\n",
              "      <td>0</td>\n",
              "      <td>7</td>\n",
              "      <td>0</td>\n",
              "      <td>383</td>\n",
              "    </tr>\n",
              "    <tr>\n",
              "      <th>41185</th>\n",
              "      <td>0</td>\n",
              "      <td>7</td>\n",
              "      <td>0</td>\n",
              "      <td>189</td>\n",
              "    </tr>\n",
              "    <tr>\n",
              "      <th>41186</th>\n",
              "      <td>0</td>\n",
              "      <td>7</td>\n",
              "      <td>0</td>\n",
              "      <td>442</td>\n",
              "    </tr>\n",
              "    <tr>\n",
              "      <th>41187</th>\n",
              "      <td>0</td>\n",
              "      <td>7</td>\n",
              "      <td>0</td>\n",
              "      <td>239</td>\n",
              "    </tr>\n",
              "  </tbody>\n",
              "</table>\n",
              "<p>41188 rows × 4 columns</p>\n",
              "</div>"
            ],
            "text/plain": [
              "       contact  month  day_of_week  duration\n",
              "0            1      6            1       261\n",
              "1            1      6            1       149\n",
              "2            1      6            1       226\n",
              "3            1      6            1       151\n",
              "4            1      6            1       307\n",
              "...        ...    ...          ...       ...\n",
              "41183        0      7            0       334\n",
              "41184        0      7            0       383\n",
              "41185        0      7            0       189\n",
              "41186        0      7            0       442\n",
              "41187        0      7            0       239\n",
              "\n",
              "[41188 rows x 4 columns]"
            ]
          },
          "execution_count": 94,
          "metadata": {},
          "output_type": "execute_result"
        }
      ],
      "source": [
        "bank_relat"
      ]
    },
    {
      "cell_type": "markdown",
      "metadata": {
        "id": "56q7Ok-rysZ0"
      },
      "source": [
        "**Завдання 14** Трансфомувати змінну **duration**, використовуючи її квартильні значення:"
      ]
    },
    {
      "cell_type": "code",
      "execution_count": 95,
      "metadata": {
        "id": "wxwc4i-aysZ0"
      },
      "outputs": [],
      "source": [
        "def encode_duration(df: pd.DataFrame, duration_col: str ) -> pd.DataFrame:\n",
        "  \"\"\"\n",
        "  Function for encoding duration column\n",
        "    \n",
        "  df: pd.DataFrame to encode\n",
        "  duration_col: duration col to encode \n",
        "  \"\"\"\n",
        "  \n",
        "  df[duration_col] = pd.qcut(df[duration_col], 4, range(4))\n",
        "          \n",
        "  return df"
      ]
    },
    {
      "cell_type": "code",
      "execution_count": 96,
      "metadata": {
        "id": "yGlDw6uGysZ0"
      },
      "outputs": [],
      "source": [
        "bank_relat = encode_duration(bank_relat, 'duration')"
      ]
    },
    {
      "cell_type": "markdown",
      "metadata": {
        "id": "09lfy5MvysZ0"
      },
      "source": [
        "## Провести аналіз атрибутів **соціального та економічного контексту**"
      ]
    },
    {
      "cell_type": "markdown",
      "metadata": {
        "id": "SnUz68opysZ1"
      },
      "source": [
        "**Завдання 15** Виділити в окремий датафрейм атрибути соціального та єкономічного контексту"
      ]
    },
    {
      "cell_type": "code",
      "execution_count": 97,
      "metadata": {
        "id": "Iag7Z_6eysZ1"
      },
      "outputs": [],
      "source": [
        "social_economic_attributes = ['emp.var.rate', 'cons.price.idx', 'euribor3m', 'nr.employed']\n",
        "bank_socec = df[social_economic_attributes]"
      ]
    },
    {
      "cell_type": "code",
      "execution_count": 98,
      "metadata": {},
      "outputs": [
        {
          "data": {
            "text/html": [
              "<div>\n",
              "<style scoped>\n",
              "    .dataframe tbody tr th:only-of-type {\n",
              "        vertical-align: middle;\n",
              "    }\n",
              "\n",
              "    .dataframe tbody tr th {\n",
              "        vertical-align: top;\n",
              "    }\n",
              "\n",
              "    .dataframe thead th {\n",
              "        text-align: right;\n",
              "    }\n",
              "</style>\n",
              "<table border=\"1\" class=\"dataframe\">\n",
              "  <thead>\n",
              "    <tr style=\"text-align: right;\">\n",
              "      <th></th>\n",
              "      <th>emp.var.rate</th>\n",
              "      <th>cons.price.idx</th>\n",
              "      <th>euribor3m</th>\n",
              "      <th>nr.employed</th>\n",
              "    </tr>\n",
              "  </thead>\n",
              "  <tbody>\n",
              "    <tr>\n",
              "      <th>0</th>\n",
              "      <td>1.1</td>\n",
              "      <td>93.994</td>\n",
              "      <td>4.857</td>\n",
              "      <td>5191.0</td>\n",
              "    </tr>\n",
              "    <tr>\n",
              "      <th>1</th>\n",
              "      <td>1.1</td>\n",
              "      <td>93.994</td>\n",
              "      <td>4.857</td>\n",
              "      <td>5191.0</td>\n",
              "    </tr>\n",
              "    <tr>\n",
              "      <th>2</th>\n",
              "      <td>1.1</td>\n",
              "      <td>93.994</td>\n",
              "      <td>4.857</td>\n",
              "      <td>5191.0</td>\n",
              "    </tr>\n",
              "    <tr>\n",
              "      <th>3</th>\n",
              "      <td>1.1</td>\n",
              "      <td>93.994</td>\n",
              "      <td>4.857</td>\n",
              "      <td>5191.0</td>\n",
              "    </tr>\n",
              "    <tr>\n",
              "      <th>4</th>\n",
              "      <td>1.1</td>\n",
              "      <td>93.994</td>\n",
              "      <td>4.857</td>\n",
              "      <td>5191.0</td>\n",
              "    </tr>\n",
              "    <tr>\n",
              "      <th>...</th>\n",
              "      <td>...</td>\n",
              "      <td>...</td>\n",
              "      <td>...</td>\n",
              "      <td>...</td>\n",
              "    </tr>\n",
              "    <tr>\n",
              "      <th>41183</th>\n",
              "      <td>-1.1</td>\n",
              "      <td>94.767</td>\n",
              "      <td>1.028</td>\n",
              "      <td>4963.6</td>\n",
              "    </tr>\n",
              "    <tr>\n",
              "      <th>41184</th>\n",
              "      <td>-1.1</td>\n",
              "      <td>94.767</td>\n",
              "      <td>1.028</td>\n",
              "      <td>4963.6</td>\n",
              "    </tr>\n",
              "    <tr>\n",
              "      <th>41185</th>\n",
              "      <td>-1.1</td>\n",
              "      <td>94.767</td>\n",
              "      <td>1.028</td>\n",
              "      <td>4963.6</td>\n",
              "    </tr>\n",
              "    <tr>\n",
              "      <th>41186</th>\n",
              "      <td>-1.1</td>\n",
              "      <td>94.767</td>\n",
              "      <td>1.028</td>\n",
              "      <td>4963.6</td>\n",
              "    </tr>\n",
              "    <tr>\n",
              "      <th>41187</th>\n",
              "      <td>-1.1</td>\n",
              "      <td>94.767</td>\n",
              "      <td>1.028</td>\n",
              "      <td>4963.6</td>\n",
              "    </tr>\n",
              "  </tbody>\n",
              "</table>\n",
              "<p>41188 rows × 4 columns</p>\n",
              "</div>"
            ],
            "text/plain": [
              "       emp.var.rate  cons.price.idx  euribor3m  nr.employed\n",
              "0               1.1          93.994      4.857       5191.0\n",
              "1               1.1          93.994      4.857       5191.0\n",
              "2               1.1          93.994      4.857       5191.0\n",
              "3               1.1          93.994      4.857       5191.0\n",
              "4               1.1          93.994      4.857       5191.0\n",
              "...             ...             ...        ...          ...\n",
              "41183          -1.1          94.767      1.028       4963.6\n",
              "41184          -1.1          94.767      1.028       4963.6\n",
              "41185          -1.1          94.767      1.028       4963.6\n",
              "41186          -1.1          94.767      1.028       4963.6\n",
              "41187          -1.1          94.767      1.028       4963.6\n",
              "\n",
              "[41188 rows x 4 columns]"
            ]
          },
          "execution_count": 98,
          "metadata": {},
          "output_type": "execute_result"
        }
      ],
      "source": [
        "bank_socec"
      ]
    },
    {
      "cell_type": "markdown",
      "metadata": {
        "id": "yPtBjoemysZ1"
      },
      "source": [
        "**Завдання 16** Виділити в окремий датафрейм всі інші атрибути атрибути - `campaign`, `pdays`,`previous`, `poutcome`"
      ]
    },
    {
      "cell_type": "code",
      "execution_count": 99,
      "metadata": {
        "id": "tcTvIR9xysZ3"
      },
      "outputs": [],
      "source": [
        "other_attributes = ['campaign', 'pdays', 'previous', 'poutcome']\n",
        "bank_other = df[other_attributes]"
      ]
    },
    {
      "cell_type": "code",
      "execution_count": 100,
      "metadata": {},
      "outputs": [
        {
          "data": {
            "text/html": [
              "<div>\n",
              "<style scoped>\n",
              "    .dataframe tbody tr th:only-of-type {\n",
              "        vertical-align: middle;\n",
              "    }\n",
              "\n",
              "    .dataframe tbody tr th {\n",
              "        vertical-align: top;\n",
              "    }\n",
              "\n",
              "    .dataframe thead th {\n",
              "        text-align: right;\n",
              "    }\n",
              "</style>\n",
              "<table border=\"1\" class=\"dataframe\">\n",
              "  <thead>\n",
              "    <tr style=\"text-align: right;\">\n",
              "      <th></th>\n",
              "      <th>campaign</th>\n",
              "      <th>pdays</th>\n",
              "      <th>previous</th>\n",
              "      <th>poutcome</th>\n",
              "    </tr>\n",
              "  </thead>\n",
              "  <tbody>\n",
              "    <tr>\n",
              "      <th>0</th>\n",
              "      <td>1</td>\n",
              "      <td>999</td>\n",
              "      <td>0</td>\n",
              "      <td>nonexistent</td>\n",
              "    </tr>\n",
              "    <tr>\n",
              "      <th>1</th>\n",
              "      <td>1</td>\n",
              "      <td>999</td>\n",
              "      <td>0</td>\n",
              "      <td>nonexistent</td>\n",
              "    </tr>\n",
              "    <tr>\n",
              "      <th>2</th>\n",
              "      <td>1</td>\n",
              "      <td>999</td>\n",
              "      <td>0</td>\n",
              "      <td>nonexistent</td>\n",
              "    </tr>\n",
              "    <tr>\n",
              "      <th>3</th>\n",
              "      <td>1</td>\n",
              "      <td>999</td>\n",
              "      <td>0</td>\n",
              "      <td>nonexistent</td>\n",
              "    </tr>\n",
              "    <tr>\n",
              "      <th>4</th>\n",
              "      <td>1</td>\n",
              "      <td>999</td>\n",
              "      <td>0</td>\n",
              "      <td>nonexistent</td>\n",
              "    </tr>\n",
              "    <tr>\n",
              "      <th>...</th>\n",
              "      <td>...</td>\n",
              "      <td>...</td>\n",
              "      <td>...</td>\n",
              "      <td>...</td>\n",
              "    </tr>\n",
              "    <tr>\n",
              "      <th>41183</th>\n",
              "      <td>1</td>\n",
              "      <td>999</td>\n",
              "      <td>0</td>\n",
              "      <td>nonexistent</td>\n",
              "    </tr>\n",
              "    <tr>\n",
              "      <th>41184</th>\n",
              "      <td>1</td>\n",
              "      <td>999</td>\n",
              "      <td>0</td>\n",
              "      <td>nonexistent</td>\n",
              "    </tr>\n",
              "    <tr>\n",
              "      <th>41185</th>\n",
              "      <td>2</td>\n",
              "      <td>999</td>\n",
              "      <td>0</td>\n",
              "      <td>nonexistent</td>\n",
              "    </tr>\n",
              "    <tr>\n",
              "      <th>41186</th>\n",
              "      <td>1</td>\n",
              "      <td>999</td>\n",
              "      <td>0</td>\n",
              "      <td>nonexistent</td>\n",
              "    </tr>\n",
              "    <tr>\n",
              "      <th>41187</th>\n",
              "      <td>3</td>\n",
              "      <td>999</td>\n",
              "      <td>1</td>\n",
              "      <td>failure</td>\n",
              "    </tr>\n",
              "  </tbody>\n",
              "</table>\n",
              "<p>41188 rows × 4 columns</p>\n",
              "</div>"
            ],
            "text/plain": [
              "       campaign  pdays  previous     poutcome\n",
              "0             1    999         0  nonexistent\n",
              "1             1    999         0  nonexistent\n",
              "2             1    999         0  nonexistent\n",
              "3             1    999         0  nonexistent\n",
              "4             1    999         0  nonexistent\n",
              "...         ...    ...       ...          ...\n",
              "41183         1    999         0  nonexistent\n",
              "41184         1    999         0  nonexistent\n",
              "41185         2    999         0  nonexistent\n",
              "41186         1    999         0  nonexistent\n",
              "41187         3    999         1      failure\n",
              "\n",
              "[41188 rows x 4 columns]"
            ]
          },
          "execution_count": 100,
          "metadata": {},
          "output_type": "execute_result"
        }
      ],
      "source": [
        "bank_other"
      ]
    },
    {
      "cell_type": "markdown",
      "metadata": {
        "id": "hf9tgwqRysZ3"
      },
      "source": [
        "**Завдання 17** Провести трансформацію атрибуту `poutcome`"
      ]
    },
    {
      "cell_type": "code",
      "execution_count": 101,
      "metadata": {
        "id": "nUVUzdq1ysZ3"
      },
      "outputs": [],
      "source": [
        "bank_other = encode_categorical_columns(bank_other, ['poutcome'])\n"
      ]
    },
    {
      "cell_type": "code",
      "execution_count": 102,
      "metadata": {},
      "outputs": [
        {
          "data": {
            "text/html": [
              "<div>\n",
              "<style scoped>\n",
              "    .dataframe tbody tr th:only-of-type {\n",
              "        vertical-align: middle;\n",
              "    }\n",
              "\n",
              "    .dataframe tbody tr th {\n",
              "        vertical-align: top;\n",
              "    }\n",
              "\n",
              "    .dataframe thead th {\n",
              "        text-align: right;\n",
              "    }\n",
              "</style>\n",
              "<table border=\"1\" class=\"dataframe\">\n",
              "  <thead>\n",
              "    <tr style=\"text-align: right;\">\n",
              "      <th></th>\n",
              "      <th>campaign</th>\n",
              "      <th>pdays</th>\n",
              "      <th>previous</th>\n",
              "      <th>poutcome</th>\n",
              "    </tr>\n",
              "  </thead>\n",
              "  <tbody>\n",
              "    <tr>\n",
              "      <th>0</th>\n",
              "      <td>1</td>\n",
              "      <td>999</td>\n",
              "      <td>0</td>\n",
              "      <td>1</td>\n",
              "    </tr>\n",
              "    <tr>\n",
              "      <th>1</th>\n",
              "      <td>1</td>\n",
              "      <td>999</td>\n",
              "      <td>0</td>\n",
              "      <td>1</td>\n",
              "    </tr>\n",
              "    <tr>\n",
              "      <th>2</th>\n",
              "      <td>1</td>\n",
              "      <td>999</td>\n",
              "      <td>0</td>\n",
              "      <td>1</td>\n",
              "    </tr>\n",
              "    <tr>\n",
              "      <th>3</th>\n",
              "      <td>1</td>\n",
              "      <td>999</td>\n",
              "      <td>0</td>\n",
              "      <td>1</td>\n",
              "    </tr>\n",
              "    <tr>\n",
              "      <th>4</th>\n",
              "      <td>1</td>\n",
              "      <td>999</td>\n",
              "      <td>0</td>\n",
              "      <td>1</td>\n",
              "    </tr>\n",
              "    <tr>\n",
              "      <th>...</th>\n",
              "      <td>...</td>\n",
              "      <td>...</td>\n",
              "      <td>...</td>\n",
              "      <td>...</td>\n",
              "    </tr>\n",
              "    <tr>\n",
              "      <th>41183</th>\n",
              "      <td>1</td>\n",
              "      <td>999</td>\n",
              "      <td>0</td>\n",
              "      <td>1</td>\n",
              "    </tr>\n",
              "    <tr>\n",
              "      <th>41184</th>\n",
              "      <td>1</td>\n",
              "      <td>999</td>\n",
              "      <td>0</td>\n",
              "      <td>1</td>\n",
              "    </tr>\n",
              "    <tr>\n",
              "      <th>41185</th>\n",
              "      <td>2</td>\n",
              "      <td>999</td>\n",
              "      <td>0</td>\n",
              "      <td>1</td>\n",
              "    </tr>\n",
              "    <tr>\n",
              "      <th>41186</th>\n",
              "      <td>1</td>\n",
              "      <td>999</td>\n",
              "      <td>0</td>\n",
              "      <td>1</td>\n",
              "    </tr>\n",
              "    <tr>\n",
              "      <th>41187</th>\n",
              "      <td>3</td>\n",
              "      <td>999</td>\n",
              "      <td>1</td>\n",
              "      <td>0</td>\n",
              "    </tr>\n",
              "  </tbody>\n",
              "</table>\n",
              "<p>41188 rows × 4 columns</p>\n",
              "</div>"
            ],
            "text/plain": [
              "       campaign  pdays  previous  poutcome\n",
              "0             1    999         0         1\n",
              "1             1    999         0         1\n",
              "2             1    999         0         1\n",
              "3             1    999         0         1\n",
              "4             1    999         0         1\n",
              "...         ...    ...       ...       ...\n",
              "41183         1    999         0         1\n",
              "41184         1    999         0         1\n",
              "41185         2    999         0         1\n",
              "41186         1    999         0         1\n",
              "41187         3    999         1         0\n",
              "\n",
              "[41188 rows x 4 columns]"
            ]
          },
          "execution_count": 102,
          "metadata": {},
          "output_type": "execute_result"
        }
      ],
      "source": [
        "bank_other"
      ]
    },
    {
      "cell_type": "markdown",
      "metadata": {
        "id": "-E2GpdBKysZ4"
      },
      "source": [
        "## Будування моделей класифікації"
      ]
    },
    {
      "cell_type": "markdown",
      "metadata": {
        "id": "HZ6ZNGtvysZ4"
      },
      "source": [
        "**Завдання 18** З'єднати всі отримані блоки в один датафрейм і перевірити, що він містить тільки потрібні для моделювання колонки"
      ]
    },
    {
      "cell_type": "code",
      "execution_count": 103,
      "metadata": {
        "id": "y6gbsEk2ysZ4"
      },
      "outputs": [],
      "source": [
        "bank_final = pd.concat([bank_client, bank_relat, bank_socec, bank_other], axis=1)"
      ]
    },
    {
      "cell_type": "markdown",
      "metadata": {},
      "source": [
        "Відкидаємо duration бо цей атрибут не потрібен в моделюванні"
      ]
    },
    {
      "cell_type": "code",
      "execution_count": 104,
      "metadata": {},
      "outputs": [],
      "source": [
        "bank_final = bank_final.drop('duration', axis=1)"
      ]
    },
    {
      "cell_type": "code",
      "execution_count": 105,
      "metadata": {},
      "outputs": [
        {
          "data": {
            "text/html": [
              "<div>\n",
              "<style scoped>\n",
              "    .dataframe tbody tr th:only-of-type {\n",
              "        vertical-align: middle;\n",
              "    }\n",
              "\n",
              "    .dataframe tbody tr th {\n",
              "        vertical-align: top;\n",
              "    }\n",
              "\n",
              "    .dataframe thead th {\n",
              "        text-align: right;\n",
              "    }\n",
              "</style>\n",
              "<table border=\"1\" class=\"dataframe\">\n",
              "  <thead>\n",
              "    <tr style=\"text-align: right;\">\n",
              "      <th></th>\n",
              "      <th>age</th>\n",
              "      <th>job</th>\n",
              "      <th>marital</th>\n",
              "      <th>education</th>\n",
              "      <th>default</th>\n",
              "      <th>housing</th>\n",
              "      <th>loan</th>\n",
              "      <th>contact</th>\n",
              "      <th>month</th>\n",
              "      <th>day_of_week</th>\n",
              "      <th>emp.var.rate</th>\n",
              "      <th>cons.price.idx</th>\n",
              "      <th>euribor3m</th>\n",
              "      <th>nr.employed</th>\n",
              "      <th>campaign</th>\n",
              "      <th>pdays</th>\n",
              "      <th>previous</th>\n",
              "      <th>poutcome</th>\n",
              "    </tr>\n",
              "  </thead>\n",
              "  <tbody>\n",
              "    <tr>\n",
              "      <th>0</th>\n",
              "      <td>3</td>\n",
              "      <td>3</td>\n",
              "      <td>1</td>\n",
              "      <td>0</td>\n",
              "      <td>0</td>\n",
              "      <td>0</td>\n",
              "      <td>0</td>\n",
              "      <td>1</td>\n",
              "      <td>6</td>\n",
              "      <td>1</td>\n",
              "      <td>1.1</td>\n",
              "      <td>93.994</td>\n",
              "      <td>4.857</td>\n",
              "      <td>5191.0</td>\n",
              "      <td>1</td>\n",
              "      <td>999</td>\n",
              "      <td>0</td>\n",
              "      <td>1</td>\n",
              "    </tr>\n",
              "    <tr>\n",
              "      <th>1</th>\n",
              "      <td>3</td>\n",
              "      <td>7</td>\n",
              "      <td>1</td>\n",
              "      <td>3</td>\n",
              "      <td>1</td>\n",
              "      <td>0</td>\n",
              "      <td>0</td>\n",
              "      <td>1</td>\n",
              "      <td>6</td>\n",
              "      <td>1</td>\n",
              "      <td>1.1</td>\n",
              "      <td>93.994</td>\n",
              "      <td>4.857</td>\n",
              "      <td>5191.0</td>\n",
              "      <td>1</td>\n",
              "      <td>999</td>\n",
              "      <td>0</td>\n",
              "      <td>1</td>\n",
              "    </tr>\n",
              "    <tr>\n",
              "      <th>2</th>\n",
              "      <td>1</td>\n",
              "      <td>7</td>\n",
              "      <td>1</td>\n",
              "      <td>3</td>\n",
              "      <td>0</td>\n",
              "      <td>2</td>\n",
              "      <td>0</td>\n",
              "      <td>1</td>\n",
              "      <td>6</td>\n",
              "      <td>1</td>\n",
              "      <td>1.1</td>\n",
              "      <td>93.994</td>\n",
              "      <td>4.857</td>\n",
              "      <td>5191.0</td>\n",
              "      <td>1</td>\n",
              "      <td>999</td>\n",
              "      <td>0</td>\n",
              "      <td>1</td>\n",
              "    </tr>\n",
              "    <tr>\n",
              "      <th>3</th>\n",
              "      <td>2</td>\n",
              "      <td>0</td>\n",
              "      <td>1</td>\n",
              "      <td>1</td>\n",
              "      <td>0</td>\n",
              "      <td>0</td>\n",
              "      <td>0</td>\n",
              "      <td>1</td>\n",
              "      <td>6</td>\n",
              "      <td>1</td>\n",
              "      <td>1.1</td>\n",
              "      <td>93.994</td>\n",
              "      <td>4.857</td>\n",
              "      <td>5191.0</td>\n",
              "      <td>1</td>\n",
              "      <td>999</td>\n",
              "      <td>0</td>\n",
              "      <td>1</td>\n",
              "    </tr>\n",
              "    <tr>\n",
              "      <th>4</th>\n",
              "      <td>3</td>\n",
              "      <td>7</td>\n",
              "      <td>1</td>\n",
              "      <td>3</td>\n",
              "      <td>0</td>\n",
              "      <td>0</td>\n",
              "      <td>2</td>\n",
              "      <td>1</td>\n",
              "      <td>6</td>\n",
              "      <td>1</td>\n",
              "      <td>1.1</td>\n",
              "      <td>93.994</td>\n",
              "      <td>4.857</td>\n",
              "      <td>5191.0</td>\n",
              "      <td>1</td>\n",
              "      <td>999</td>\n",
              "      <td>0</td>\n",
              "      <td>1</td>\n",
              "    </tr>\n",
              "    <tr>\n",
              "      <th>...</th>\n",
              "      <td>...</td>\n",
              "      <td>...</td>\n",
              "      <td>...</td>\n",
              "      <td>...</td>\n",
              "      <td>...</td>\n",
              "      <td>...</td>\n",
              "      <td>...</td>\n",
              "      <td>...</td>\n",
              "      <td>...</td>\n",
              "      <td>...</td>\n",
              "      <td>...</td>\n",
              "      <td>...</td>\n",
              "      <td>...</td>\n",
              "      <td>...</td>\n",
              "      <td>...</td>\n",
              "      <td>...</td>\n",
              "      <td>...</td>\n",
              "      <td>...</td>\n",
              "    </tr>\n",
              "    <tr>\n",
              "      <th>41183</th>\n",
              "      <td>3</td>\n",
              "      <td>5</td>\n",
              "      <td>1</td>\n",
              "      <td>5</td>\n",
              "      <td>0</td>\n",
              "      <td>2</td>\n",
              "      <td>0</td>\n",
              "      <td>0</td>\n",
              "      <td>7</td>\n",
              "      <td>0</td>\n",
              "      <td>-1.1</td>\n",
              "      <td>94.767</td>\n",
              "      <td>1.028</td>\n",
              "      <td>4963.6</td>\n",
              "      <td>1</td>\n",
              "      <td>999</td>\n",
              "      <td>0</td>\n",
              "      <td>1</td>\n",
              "    </tr>\n",
              "    <tr>\n",
              "      <th>41184</th>\n",
              "      <td>2</td>\n",
              "      <td>1</td>\n",
              "      <td>1</td>\n",
              "      <td>5</td>\n",
              "      <td>0</td>\n",
              "      <td>0</td>\n",
              "      <td>0</td>\n",
              "      <td>0</td>\n",
              "      <td>7</td>\n",
              "      <td>0</td>\n",
              "      <td>-1.1</td>\n",
              "      <td>94.767</td>\n",
              "      <td>1.028</td>\n",
              "      <td>4963.6</td>\n",
              "      <td>1</td>\n",
              "      <td>999</td>\n",
              "      <td>0</td>\n",
              "      <td>1</td>\n",
              "    </tr>\n",
              "    <tr>\n",
              "      <th>41185</th>\n",
              "      <td>3</td>\n",
              "      <td>5</td>\n",
              "      <td>1</td>\n",
              "      <td>6</td>\n",
              "      <td>0</td>\n",
              "      <td>2</td>\n",
              "      <td>0</td>\n",
              "      <td>0</td>\n",
              "      <td>7</td>\n",
              "      <td>0</td>\n",
              "      <td>-1.1</td>\n",
              "      <td>94.767</td>\n",
              "      <td>1.028</td>\n",
              "      <td>4963.6</td>\n",
              "      <td>2</td>\n",
              "      <td>999</td>\n",
              "      <td>0</td>\n",
              "      <td>1</td>\n",
              "    </tr>\n",
              "    <tr>\n",
              "      <th>41186</th>\n",
              "      <td>2</td>\n",
              "      <td>9</td>\n",
              "      <td>1</td>\n",
              "      <td>5</td>\n",
              "      <td>0</td>\n",
              "      <td>0</td>\n",
              "      <td>0</td>\n",
              "      <td>0</td>\n",
              "      <td>7</td>\n",
              "      <td>0</td>\n",
              "      <td>-1.1</td>\n",
              "      <td>94.767</td>\n",
              "      <td>1.028</td>\n",
              "      <td>4963.6</td>\n",
              "      <td>1</td>\n",
              "      <td>999</td>\n",
              "      <td>0</td>\n",
              "      <td>1</td>\n",
              "    </tr>\n",
              "    <tr>\n",
              "      <th>41187</th>\n",
              "      <td>3</td>\n",
              "      <td>5</td>\n",
              "      <td>1</td>\n",
              "      <td>5</td>\n",
              "      <td>0</td>\n",
              "      <td>2</td>\n",
              "      <td>0</td>\n",
              "      <td>0</td>\n",
              "      <td>7</td>\n",
              "      <td>0</td>\n",
              "      <td>-1.1</td>\n",
              "      <td>94.767</td>\n",
              "      <td>1.028</td>\n",
              "      <td>4963.6</td>\n",
              "      <td>3</td>\n",
              "      <td>999</td>\n",
              "      <td>1</td>\n",
              "      <td>0</td>\n",
              "    </tr>\n",
              "  </tbody>\n",
              "</table>\n",
              "<p>41188 rows × 18 columns</p>\n",
              "</div>"
            ],
            "text/plain": [
              "      age  job  marital  education  default  housing  loan  contact  month  \\\n",
              "0       3    3        1          0        0        0     0        1      6   \n",
              "1       3    7        1          3        1        0     0        1      6   \n",
              "2       1    7        1          3        0        2     0        1      6   \n",
              "3       2    0        1          1        0        0     0        1      6   \n",
              "4       3    7        1          3        0        0     2        1      6   \n",
              "...    ..  ...      ...        ...      ...      ...   ...      ...    ...   \n",
              "41183   3    5        1          5        0        2     0        0      7   \n",
              "41184   2    1        1          5        0        0     0        0      7   \n",
              "41185   3    5        1          6        0        2     0        0      7   \n",
              "41186   2    9        1          5        0        0     0        0      7   \n",
              "41187   3    5        1          5        0        2     0        0      7   \n",
              "\n",
              "       day_of_week  emp.var.rate  cons.price.idx  euribor3m  nr.employed  \\\n",
              "0                1           1.1          93.994      4.857       5191.0   \n",
              "1                1           1.1          93.994      4.857       5191.0   \n",
              "2                1           1.1          93.994      4.857       5191.0   \n",
              "3                1           1.1          93.994      4.857       5191.0   \n",
              "4                1           1.1          93.994      4.857       5191.0   \n",
              "...            ...           ...             ...        ...          ...   \n",
              "41183            0          -1.1          94.767      1.028       4963.6   \n",
              "41184            0          -1.1          94.767      1.028       4963.6   \n",
              "41185            0          -1.1          94.767      1.028       4963.6   \n",
              "41186            0          -1.1          94.767      1.028       4963.6   \n",
              "41187            0          -1.1          94.767      1.028       4963.6   \n",
              "\n",
              "       campaign  pdays  previous  poutcome  \n",
              "0             1    999         0         1  \n",
              "1             1    999         0         1  \n",
              "2             1    999         0         1  \n",
              "3             1    999         0         1  \n",
              "4             1    999         0         1  \n",
              "...         ...    ...       ...       ...  \n",
              "41183         1    999         0         1  \n",
              "41184         1    999         0         1  \n",
              "41185         2    999         0         1  \n",
              "41186         1    999         0         1  \n",
              "41187         3    999         1         0  \n",
              "\n",
              "[41188 rows x 18 columns]"
            ]
          },
          "execution_count": 105,
          "metadata": {},
          "output_type": "execute_result"
        }
      ],
      "source": [
        "bank_final"
      ]
    },
    {
      "cell_type": "markdown",
      "metadata": {
        "id": "_AwD8ZiBysZ4"
      },
      "source": [
        "**Завдання 19** Провести ділення вибірки"
      ]
    },
    {
      "cell_type": "code",
      "execution_count": 106,
      "metadata": {
        "id": "RZhPJcZ4ysZ5"
      },
      "outputs": [],
      "source": [
        "def prepare_data_for_training(X: pd.DataFrame,\n",
        "                              target: pd.Series,\n",
        "                              test_size: float,\n",
        "                              n_splits: int,\n",
        "                              random_state: int):\n",
        "    \"\"\"\n",
        "    Function that prepares data for training. Splits the data into train and test datasets and get k-folds for cross-validation\n",
        "\n",
        "    X: pd.DataFrame with features\n",
        "    target: target pd.Series\n",
        "    test_size: the size of test datasets\n",
        "    n_splits: number of cross-validation splits\n",
        "    random_state: random state to reproduce the same split\n",
        "\n",
        "    returns: X_train, X_test, y_train, y_test, k_fold\n",
        "    \"\"\"\n",
        "\n",
        "    X_train, X_test, y_train, y_test = train_test_split(X, target, random_state=random_state, test_size=test_size)\n",
        "    k_fold = KFold(n_splits=n_splits, shuffle=True, random_state=random_state)\n",
        "\n",
        "    return X_train, X_test, y_train, y_test, k_fold"
      ]
    },
    {
      "cell_type": "code",
      "execution_count": 108,
      "metadata": {
        "id": "1rj6PXqfysZ5"
      },
      "outputs": [],
      "source": [
        "X_train, X_test, y_train, y_test, k_fold = prepare_data_for_training(bank_final, df[target], 0.2, 10, 101)"
      ]
    },
    {
      "cell_type": "code",
      "execution_count": 109,
      "metadata": {
        "id": "Zx4lCwm3ysZ6"
      },
      "outputs": [],
      "source": [
        "def scale_the_data(X_train: pd.DataFrame, X_test: pd.DataFrame):\n",
        "    sc_X = StandardScaler()\n",
        "    X_train = sc_X.fit_transform(X_train)\n",
        "    X_test = sc_X.transform(X_test)\n",
        "\n",
        "    return X_train, X_test"
      ]
    },
    {
      "cell_type": "code",
      "execution_count": 110,
      "metadata": {
        "id": "v3ypxy96As9J"
      },
      "outputs": [],
      "source": [
        "X_train, X_test = scale_the_data(X_train, X_test)"
      ]
    },
    {
      "cell_type": "markdown",
      "metadata": {
        "id": "e0a0hsZh_ZfQ"
      },
      "source": [
        "## Логістична Регресія"
      ]
    },
    {
      "cell_type": "code",
      "execution_count": 111,
      "metadata": {
        "id": "TZBcy1C3ysZ6"
      },
      "outputs": [
        {
          "name": "stdout",
          "output_type": "stream",
          "text": [
            "[[7198   81]\n",
            " [ 755  204]]\n",
            "90.0\n"
          ]
        }
      ],
      "source": [
        "logmodel = LogisticRegression() \n",
        "logmodel.fit(X_train, y_train)\n",
        "logpred = logmodel.predict(X_test)\n",
        "\n",
        "\n",
        "print(confusion_matrix(y_test, logpred))\n",
        "print(round(accuracy_score(y_test, logpred),2)*100)\n",
        "LOGCV = (cross_val_score(logmodel, X_test, y_test, cv=k_fold, n_jobs=1, scoring = 'accuracy').mean())"
      ]
    },
    {
      "cell_type": "markdown",
      "metadata": {
        "id": "N2mqTeRJ_ZfR"
      },
      "source": [
        "## k-NN"
      ]
    },
    {
      "cell_type": "code",
      "execution_count": 112,
      "metadata": {
        "id": "NHxB-_ZUysZ6"
      },
      "outputs": [
        {
          "name": "stdout",
          "output_type": "stream",
          "text": [
            "k=1 84.96 (+/- 0.67)\n",
            "k=2 89.14 (+/- 0.57)\n",
            "k=3 88.57 (+/- 0.51)\n",
            "k=4 89.47 (+/- 0.58)\n",
            "k=5 89.29 (+/- 0.59)\n",
            "k=6 89.68 (+/- 0.62)\n",
            "k=7 89.66 (+/- 0.67)\n",
            "k=8 89.78 (+/- 0.65)\n",
            "k=9 89.74 (+/- 0.68)\n",
            "k=10 89.86 (+/- 0.66)\n",
            "k=11 89.79 (+/- 0.70)\n",
            "k=12 89.92 (+/- 0.64)\n",
            "k=13 89.81 (+/- 0.67)\n",
            "k=14 89.95 (+/- 0.67)\n",
            "k=15 89.85 (+/- 0.68)\n",
            "k=16 89.92 (+/- 0.64)\n",
            "k=17 89.92 (+/- 0.68)\n",
            "k=18 89.96 (+/- 0.68)\n",
            "k=19 89.89 (+/- 0.68)\n",
            "k=20 89.94 (+/- 0.71)\n",
            "k=21 89.90 (+/- 0.70)\n",
            "k=22 89.95 (+/- 0.66)\n",
            "k=23 89.91 (+/- 0.67)\n",
            "k=24 89.93 (+/- 0.69)\n",
            "k=25 89.94 (+/- 0.72)\n",
            "The optimal number of neighbors is 17 with 90.0%\n"
          ]
        },
        {
          "data": {
            "image/png": "[encoded data removed]",
            "text/plain": [
              "<Figure size 640x480 with 1 Axes>"
            ]
          },
          "metadata": {},
          "output_type": "display_data"
        }
      ],
      "source": [
        "#Neighbors\n",
        "neighbors = np.arange(0,25)\n",
        "\n",
        "#Create empty list that will hold cv scores\n",
        "cv_scores = []\n",
        "\n",
        "#Perform 10-fold cross validation on training set for odd values of k:\n",
        "for k in neighbors:\n",
        "    k_value = k+1\n",
        "    knn = KNeighborsClassifier(n_neighbors = k_value, weights='uniform', p=2, metric='euclidean')\n",
        "    scores = model_selection.cross_val_score(knn, X_train, y_train, cv=k_fold, scoring='accuracy')\n",
        "    cv_scores.append(scores.mean()*100)\n",
        "    print(\"k=%d %0.2f (+/- %0.2f)\" % (k_value, scores.mean()*100, scores.std()*100))\n",
        "\n",
        "optimal_k = neighbors[cv_scores.index(max(cv_scores))]\n",
        "print (\"The optimal number of neighbors is %d with %0.1f%%\" % (optimal_k, cv_scores[optimal_k]))\n",
        "\n",
        "plt.plot(neighbors, cv_scores)\n",
        "plt.xlabel('Number of Neighbors K')\n",
        "plt.ylabel('Train Accuracy')\n",
        "plt.show()"
      ]
    },
    {
      "cell_type": "code",
      "execution_count": 113,
      "metadata": {
        "id": "483uXHTnysZ6"
      },
      "outputs": [
        {
          "name": "stdout",
          "output_type": "stream",
          "text": [
            "[[7169  110]\n",
            " [ 741  218]]\n",
            "90.0\n"
          ]
        }
      ],
      "source": [
        "knn = KNeighborsClassifier(n_neighbors=optimal_k)\n",
        "knn.fit(X_train, y_train)\n",
        "knnpred = knn.predict(X_test)\n",
        "\n",
        "print(confusion_matrix(y_test, knnpred))\n",
        "print(round(accuracy_score(y_test, knnpred),2)*100)\n",
        "KNNCV = (cross_val_score(knn, X_test, y_test, cv=k_fold, n_jobs=1, scoring = 'accuracy').mean())"
      ]
    },
    {
      "cell_type": "markdown",
      "metadata": {
        "id": "lYMYjR6R_ZfS"
      },
      "source": [
        "## Логістична Регресія та К-Найближчих Сусідів"
      ]
    },
    {
      "cell_type": "code",
      "execution_count": 116,
      "metadata": {
        "id": "bIir_TuRysZ7"
      },
      "outputs": [
        {
          "data": {
            "text/html": [
              "<div>\n",
              "<style scoped>\n",
              "    .dataframe tbody tr th:only-of-type {\n",
              "        vertical-align: middle;\n",
              "    }\n",
              "\n",
              "    .dataframe tbody tr th {\n",
              "        vertical-align: top;\n",
              "    }\n",
              "\n",
              "    .dataframe thead th {\n",
              "        text-align: right;\n",
              "    }\n",
              "</style>\n",
              "<table border=\"1\" class=\"dataframe\">\n",
              "  <thead>\n",
              "    <tr style=\"text-align: right;\">\n",
              "      <th></th>\n",
              "      <th>Models</th>\n",
              "      <th>Score</th>\n",
              "    </tr>\n",
              "  </thead>\n",
              "  <tbody>\n",
              "    <tr>\n",
              "      <th>0</th>\n",
              "      <td>Logistic Regression</td>\n",
              "      <td>0.897186</td>\n",
              "    </tr>\n",
              "    <tr>\n",
              "      <th>1</th>\n",
              "      <td>K-Nearest Neighbours</td>\n",
              "      <td>0.896579</td>\n",
              "    </tr>\n",
              "  </tbody>\n",
              "</table>\n",
              "</div>"
            ],
            "text/plain": [
              "                 Models     Score\n",
              "0   Logistic Regression  0.897186\n",
              "1  K-Nearest Neighbours  0.896579"
            ]
          },
          "execution_count": 116,
          "metadata": {},
          "output_type": "execute_result"
        }
      ],
      "source": [
        "models = pd.DataFrame({\n",
        "                'Models': ['Logistic Regression', 'K-Nearest Neighbours'],\n",
        "                'Score':  [LOGCV, KNNCV]})\n",
        "\n",
        "models.sort_values(by='Score', ascending=False)"
      ]
    },
    {
      "cell_type": "markdown",
      "metadata": {
        "id": "mh_Vd_vOysZ7"
      },
      "source": [
        "**Висновки по моделям (детальні)**"
      ]
    },
    {
      "cell_type": "markdown",
      "metadata": {
        "id": "ZK2CADn6ysZ7"
      },
      "source": [
        "Побудувавши дві різні моделі, ми можемо підсумувати їх різницю.\n",
        "Метод К-Найближчих Сусідів - найпростіший метричний класифікатор, який базується на оцінкі схожості об'єктів. Класифікований об'єкт відноситься до того класу, до якого належать найближчі до нього об'єкти навчальної вибірки. Дуже пам'ятно-затратний та побудова передбачень може зайняти багато часу, але цей метод легко зрозуміти.\n",
        "\n",
        "Логістина Регресія - подібний до Лінійної Регресії, базується на так званих вагах для кожного значення. Можна сказати, що цей метод використовую \"вірогідності\" для визначення межей між класами. \n",
        "\n",
        "Після побудови моделей, ми визначили, що значення цільового атрибуту визначається практично з однаковою точністю. Значною відмінністю використання даних методів був час їх роботи. Хоч метод К-Найближчих Сусідів більш зрозуміліший, але є часозатратним.\n",
        "\n"
      ]
    }
  ],
  "metadata": {
    "colab": {
      "name": "Task4_Classification.ipynb",
      "provenance": []
    },
    "kernelspec": {
      "display_name": "Python 3.10.7 ('.venv': venv)",
      "language": "python",
      "name": "python3"
    },
    "language_info": {
      "codemirror_mode": {
        "name": "ipython",
        "version": 3
      },
      "file_extension": ".py",
      "mimetype": "text/x-python",
      "name": "python",
      "nbconvert_exporter": "python",
      "pygments_lexer": "ipython3",
      "version": "3.10.7"
    },
    "vscode": {
      "interpreter": {
        "hash": "e2ab49b3186d1cb2098e2a24aa105e54e3acb927b65158e299aacd53b9bb7327"
      }
    }
  },
  "nbformat": 4,
  "nbformat_minor": 0
}
